{
 "cells": [
  {
   "cell_type": "markdown",
   "metadata": {},
   "source": [
    "## Проект: вариант 2\n",
    "## Задание 1. A/B–тестирование\n",
    "### 1.1 Условие\n",
    "\n",
    "Одной из основных задач аналитика в нашей команде является корректное проведение экспериментов. Для этого мы применяем метод A/B–тестирования. В ходе тестирования одной гипотезы целевой группе была предложена новая механика оплаты услуг на сайте, у контрольной группы оставалась базовая механика. В качестве задания вам необходимо проанализировать итоги эксперимента и сделать вывод, стоит ли запускать новую механику оплаты на всех пользователей.\n",
    "\n",
    "### 1.2 Входные данные\n",
    "\n",
    "В качестве входных данных вы имеете 4 csv-файла:\n",
    "- groups.csv – файл с информацией о принадлежности пользователя к контрольной или экспериментальной группе (А – контроль, B – целевая группа) \n",
    "- groups_add.csv – дополнительный файл с пользователями, который вам прислали спустя 2 дня после передачи данных\n",
    "- active_studs.csv – файл с информацией о пользователях, которые зашли на платформу в дни проведения эксперимента. \n",
    "- checks.csv – файл с информацией об оплатах пользователей в дни проведения эксперимента. \n",
    "### 1.3 Вопросы\n",
    "\n",
    "Предлагаем вам ответить на следующие вопросы:\n",
    "\n",
    "- На какие метрики вы смотрите в ходе анализа и почему?\n",
    "- Имеются ли различия в показателях и с чем они могут быть связаны?\n",
    "- Являются ли эти различия статистически значимыми?\n",
    "- Стоит ли запускать новую механику на всех пользователей?\n",
    "\n",
    "Данный список вопросов не является обязательным, и вы можете при своём ответе опираться на собственный план.\n",
    "\n",
    "### 1.4 Требования к ответу\n",
    "\n",
    "При выполнении тестового задания необходимо использовать язык программирования Python. \n",
    "В файле обязательно должны быть комментарии к тем действиям, которые вы выполняете с данными. \n",
    "Файл должен представлять собой законченный отчёт с выводами, сделанными в ходе исследования."
   ]
  },
  {
   "cell_type": "code",
   "execution_count": 1,
   "metadata": {},
   "outputs": [],
   "source": [
    "# выгружаем библиотеки\n",
    "import pandas as pd\n",
    "import pandahouse as ph\n",
    "import numpy as np\n",
    "from scipy import stats\n",
    "from scipy.stats import bootstrap\n",
    "from scipy.stats import chi2_contingency\n",
    "\n",
    "import seaborn as sns\n",
    "import plotly.express as px\n",
    "import matplotlib.pyplot as plt\n",
    "%matplotlib inline\n",
    "\n",
    "import requests\n",
    "from urllib.parse import urlencode"
   ]
  },
  {
   "cell_type": "code",
   "execution_count": 2,
   "metadata": {},
   "outputs": [],
   "source": [
    "# ссылки на данные с Яндекс диска\n",
    "\n",
    "groups_key = 'https://disk.yandex.ru/d/UhyYx41rTt3clQ'\n",
    "groups_add_key = 'https://disk.yandex.ru/d/5Kxrz02m3IBUwQ'\n",
    "active_studs_key = 'https://disk.yandex.ru/d/Tbs44Bm6H_FwFQ'\n",
    "checks_key = 'https://disk.yandex.ru/d/pH1q-VqcxXjsVA'"
   ]
  },
  {
   "cell_type": "code",
   "execution_count": 3,
   "metadata": {},
   "outputs": [],
   "source": [
    "# функция для открытия данных с Яндекс диска\n",
    "\n",
    "def get_yandex_csv(public_key, sep):\n",
    "    base_url = 'https://cloud-api.yandex.net/v1/disk/public/resources/download?'\n",
    "    final_url = base_url + urlencode(dict(public_key=public_key))\n",
    "    response = requests.get(final_url)\n",
    "    download_url = response.json()['href']\n",
    "    download_response = requests.get(download_url)\n",
    "    return pd.read_csv(download_url, sep=sep)"
   ]
  },
  {
   "cell_type": "markdown",
   "metadata": {},
   "source": [
    "### groups.csv \n",
    "- файл с информацией о принадлежности пользователя к контрольной или экспериментальной группе (А – контроль, B – целевая группа)"
   ]
  },
  {
   "cell_type": "code",
   "execution_count": 4,
   "metadata": {},
   "outputs": [
    {
     "data": {
      "text/html": [
       "<div>\n",
       "<style scoped>\n",
       "    .dataframe tbody tr th:only-of-type {\n",
       "        vertical-align: middle;\n",
       "    }\n",
       "\n",
       "    .dataframe tbody tr th {\n",
       "        vertical-align: top;\n",
       "    }\n",
       "\n",
       "    .dataframe thead th {\n",
       "        text-align: right;\n",
       "    }\n",
       "</style>\n",
       "<table border=\"1\" class=\"dataframe\">\n",
       "  <thead>\n",
       "    <tr style=\"text-align: right;\">\n",
       "      <th></th>\n",
       "      <th>id</th>\n",
       "      <th>grp</th>\n",
       "    </tr>\n",
       "  </thead>\n",
       "  <tbody>\n",
       "    <tr>\n",
       "      <th>0</th>\n",
       "      <td>1489</td>\n",
       "      <td>B</td>\n",
       "    </tr>\n",
       "    <tr>\n",
       "      <th>1</th>\n",
       "      <td>1627</td>\n",
       "      <td>A</td>\n",
       "    </tr>\n",
       "    <tr>\n",
       "      <th>2</th>\n",
       "      <td>1768</td>\n",
       "      <td>B</td>\n",
       "    </tr>\n",
       "  </tbody>\n",
       "</table>\n",
       "</div>"
      ],
      "text/plain": [
       "     id grp\n",
       "0  1489   B\n",
       "1  1627   A\n",
       "2  1768   B"
      ]
     },
     "execution_count": 4,
     "metadata": {},
     "output_type": "execute_result"
    }
   ],
   "source": [
    "groups = get_yandex_csv(groups_key, ';')\n",
    "groups.head(3)"
   ]
  },
  {
   "cell_type": "code",
   "execution_count": 5,
   "metadata": {},
   "outputs": [
    {
     "name": "stdout",
     "output_type": "stream",
     "text": [
      "<class 'pandas.core.frame.DataFrame'>\n",
      "RangeIndex: 74484 entries, 0 to 74483\n",
      "Data columns (total 2 columns):\n",
      " #   Column  Non-Null Count  Dtype \n",
      "---  ------  --------------  ----- \n",
      " 0   id      74484 non-null  int64 \n",
      " 1   grp     74484 non-null  object\n",
      "dtypes: int64(1), object(1)\n",
      "memory usage: 1.1+ MB\n"
     ]
    }
   ],
   "source": [
    "groups.info()"
   ]
  },
  {
   "cell_type": "code",
   "execution_count": 6,
   "metadata": {},
   "outputs": [
    {
     "data": {
      "text/plain": [
       "0"
      ]
     },
     "execution_count": 6,
     "metadata": {},
     "output_type": "execute_result"
    }
   ],
   "source": [
    "groups.duplicated().sum()"
   ]
  },
  {
   "cell_type": "code",
   "execution_count": 7,
   "metadata": {},
   "outputs": [
    {
     "data": {
      "text/plain": [
       "True"
      ]
     },
     "execution_count": 7,
     "metadata": {},
     "output_type": "execute_result"
    }
   ],
   "source": [
    "groups.id.nunique() == groups.shape[0]"
   ]
  },
  {
   "cell_type": "code",
   "execution_count": 8,
   "metadata": {},
   "outputs": [
    {
     "data": {
      "text/html": [
       "<div>\n",
       "<style scoped>\n",
       "    .dataframe tbody tr th:only-of-type {\n",
       "        vertical-align: middle;\n",
       "    }\n",
       "\n",
       "    .dataframe tbody tr th {\n",
       "        vertical-align: top;\n",
       "    }\n",
       "\n",
       "    .dataframe thead th {\n",
       "        text-align: right;\n",
       "    }\n",
       "</style>\n",
       "<table border=\"1\" class=\"dataframe\">\n",
       "  <thead>\n",
       "    <tr style=\"text-align: right;\">\n",
       "      <th></th>\n",
       "      <th>grp</th>\n",
       "      <th>count_users</th>\n",
       "    </tr>\n",
       "  </thead>\n",
       "  <tbody>\n",
       "    <tr>\n",
       "      <th>0</th>\n",
       "      <td>A</td>\n",
       "      <td>14671</td>\n",
       "    </tr>\n",
       "    <tr>\n",
       "      <th>1</th>\n",
       "      <td>B</td>\n",
       "      <td>59813</td>\n",
       "    </tr>\n",
       "  </tbody>\n",
       "</table>\n",
       "</div>"
      ],
      "text/plain": [
       "  grp  count_users\n",
       "0   A        14671\n",
       "1   B        59813"
      ]
     },
     "execution_count": 8,
     "metadata": {},
     "output_type": "execute_result"
    }
   ],
   "source": [
    "count_users = groups\\\n",
    "    .groupby('grp', as_index=False)\\\n",
    "    .agg({'id': 'count'})\\\n",
    "    .rename(columns={'id': 'count_users'})\n",
    "count_users"
   ]
  },
  {
   "cell_type": "markdown",
   "metadata": {},
   "source": [
    "В файле нет пропусков и дубликатов, id являются уникальными, соответствуют кол-ву строк файла\n",
    "- группа A (контрольная) - 14 671 пользователь\n",
    "- группа B (экспериментальная) - 59 813 пользователей"
   ]
  },
  {
   "cell_type": "markdown",
   "metadata": {},
   "source": [
    "### groups_add.csv \n",
    "- дополнительный файл с пользователями, который вам прислали спустя 2 дня после передачи данных"
   ]
  },
  {
   "cell_type": "code",
   "execution_count": 9,
   "metadata": {},
   "outputs": [
    {
     "data": {
      "text/html": [
       "<div>\n",
       "<style scoped>\n",
       "    .dataframe tbody tr th:only-of-type {\n",
       "        vertical-align: middle;\n",
       "    }\n",
       "\n",
       "    .dataframe tbody tr th {\n",
       "        vertical-align: top;\n",
       "    }\n",
       "\n",
       "    .dataframe thead th {\n",
       "        text-align: right;\n",
       "    }\n",
       "</style>\n",
       "<table border=\"1\" class=\"dataframe\">\n",
       "  <thead>\n",
       "    <tr style=\"text-align: right;\">\n",
       "      <th></th>\n",
       "      <th>id</th>\n",
       "      <th>grp</th>\n",
       "    </tr>\n",
       "  </thead>\n",
       "  <tbody>\n",
       "    <tr>\n",
       "      <th>0</th>\n",
       "      <td>5694584</td>\n",
       "      <td>B</td>\n",
       "    </tr>\n",
       "    <tr>\n",
       "      <th>1</th>\n",
       "      <td>5694830</td>\n",
       "      <td>B</td>\n",
       "    </tr>\n",
       "    <tr>\n",
       "      <th>2</th>\n",
       "      <td>5695057</td>\n",
       "      <td>B</td>\n",
       "    </tr>\n",
       "  </tbody>\n",
       "</table>\n",
       "</div>"
      ],
      "text/plain": [
       "        id grp\n",
       "0  5694584   B\n",
       "1  5694830   B\n",
       "2  5695057   B"
      ]
     },
     "execution_count": 9,
     "metadata": {},
     "output_type": "execute_result"
    }
   ],
   "source": [
    "groups_add = get_yandex_csv(groups_add_key, ',')\n",
    "groups_add.head(3)"
   ]
  },
  {
   "cell_type": "code",
   "execution_count": 10,
   "metadata": {},
   "outputs": [
    {
     "name": "stdout",
     "output_type": "stream",
     "text": [
      "<class 'pandas.core.frame.DataFrame'>\n",
      "RangeIndex: 92 entries, 0 to 91\n",
      "Data columns (total 2 columns):\n",
      " #   Column  Non-Null Count  Dtype \n",
      "---  ------  --------------  ----- \n",
      " 0   id      92 non-null     int64 \n",
      " 1   grp     92 non-null     object\n",
      "dtypes: int64(1), object(1)\n",
      "memory usage: 1.6+ KB\n"
     ]
    }
   ],
   "source": [
    "groups_add.info()"
   ]
  },
  {
   "cell_type": "code",
   "execution_count": 11,
   "metadata": {},
   "outputs": [
    {
     "data": {
      "text/plain": [
       "0"
      ]
     },
     "execution_count": 11,
     "metadata": {},
     "output_type": "execute_result"
    }
   ],
   "source": [
    "groups_add.duplicated().sum()"
   ]
  },
  {
   "cell_type": "code",
   "execution_count": 12,
   "metadata": {},
   "outputs": [
    {
     "data": {
      "text/plain": [
       "True"
      ]
     },
     "execution_count": 12,
     "metadata": {},
     "output_type": "execute_result"
    }
   ],
   "source": [
    "groups_add.id.nunique() == groups_add.shape[0]"
   ]
  },
  {
   "cell_type": "code",
   "execution_count": 13,
   "metadata": {},
   "outputs": [
    {
     "data": {
      "text/html": [
       "<div>\n",
       "<style scoped>\n",
       "    .dataframe tbody tr th:only-of-type {\n",
       "        vertical-align: middle;\n",
       "    }\n",
       "\n",
       "    .dataframe tbody tr th {\n",
       "        vertical-align: top;\n",
       "    }\n",
       "\n",
       "    .dataframe thead th {\n",
       "        text-align: right;\n",
       "    }\n",
       "</style>\n",
       "<table border=\"1\" class=\"dataframe\">\n",
       "  <thead>\n",
       "    <tr style=\"text-align: right;\">\n",
       "      <th></th>\n",
       "      <th>grp</th>\n",
       "      <th>count_users_add</th>\n",
       "    </tr>\n",
       "  </thead>\n",
       "  <tbody>\n",
       "    <tr>\n",
       "      <th>0</th>\n",
       "      <td>A</td>\n",
       "      <td>22</td>\n",
       "    </tr>\n",
       "    <tr>\n",
       "      <th>1</th>\n",
       "      <td>B</td>\n",
       "      <td>70</td>\n",
       "    </tr>\n",
       "  </tbody>\n",
       "</table>\n",
       "</div>"
      ],
      "text/plain": [
       "  grp  count_users_add\n",
       "0   A               22\n",
       "1   B               70"
      ]
     },
     "execution_count": 13,
     "metadata": {},
     "output_type": "execute_result"
    }
   ],
   "source": [
    "count_users_add = groups_add\\\n",
    "    .groupby('grp', as_index=False)\\\n",
    "    .agg({'id': 'count'})\\\n",
    "    .rename(columns={'id': 'count_users_add'})\n",
    "count_users_add"
   ]
  },
  {
   "cell_type": "markdown",
   "metadata": {},
   "source": [
    "В файле нет пропусков и дубликатов, id являются уникальными, соответствуют кол-ву строк файла.\n",
    "- группа A (контрольная) - 22 пользователя\n",
    "- группа B (экспериментальная) - 70 пользователей"
   ]
  },
  {
   "cell_type": "markdown",
   "metadata": {},
   "source": [
    "### active_studs.csv \n",
    "- файл с информацией о пользователях, которые зашли на платформу в дни проведения эксперимента."
   ]
  },
  {
   "cell_type": "code",
   "execution_count": 14,
   "metadata": {},
   "outputs": [
    {
     "data": {
      "text/html": [
       "<div>\n",
       "<style scoped>\n",
       "    .dataframe tbody tr th:only-of-type {\n",
       "        vertical-align: middle;\n",
       "    }\n",
       "\n",
       "    .dataframe tbody tr th {\n",
       "        vertical-align: top;\n",
       "    }\n",
       "\n",
       "    .dataframe thead th {\n",
       "        text-align: right;\n",
       "    }\n",
       "</style>\n",
       "<table border=\"1\" class=\"dataframe\">\n",
       "  <thead>\n",
       "    <tr style=\"text-align: right;\">\n",
       "      <th></th>\n",
       "      <th>student_id</th>\n",
       "    </tr>\n",
       "  </thead>\n",
       "  <tbody>\n",
       "    <tr>\n",
       "      <th>0</th>\n",
       "      <td>581585</td>\n",
       "    </tr>\n",
       "    <tr>\n",
       "      <th>1</th>\n",
       "      <td>5723133</td>\n",
       "    </tr>\n",
       "    <tr>\n",
       "      <th>2</th>\n",
       "      <td>3276743</td>\n",
       "    </tr>\n",
       "  </tbody>\n",
       "</table>\n",
       "</div>"
      ],
      "text/plain": [
       "   student_id\n",
       "0      581585\n",
       "1     5723133\n",
       "2     3276743"
      ]
     },
     "execution_count": 14,
     "metadata": {},
     "output_type": "execute_result"
    }
   ],
   "source": [
    "active_studs = get_yandex_csv(active_studs_key, ' ')\n",
    "active_studs.head(3)"
   ]
  },
  {
   "cell_type": "code",
   "execution_count": 15,
   "metadata": {},
   "outputs": [
    {
     "name": "stdout",
     "output_type": "stream",
     "text": [
      "<class 'pandas.core.frame.DataFrame'>\n",
      "RangeIndex: 8341 entries, 0 to 8340\n",
      "Data columns (total 1 columns):\n",
      " #   Column      Non-Null Count  Dtype\n",
      "---  ------      --------------  -----\n",
      " 0   student_id  8341 non-null   int64\n",
      "dtypes: int64(1)\n",
      "memory usage: 65.3 KB\n"
     ]
    }
   ],
   "source": [
    "active_studs.info()"
   ]
  },
  {
   "cell_type": "code",
   "execution_count": 16,
   "metadata": {},
   "outputs": [
    {
     "data": {
      "text/plain": [
       "0"
      ]
     },
     "execution_count": 16,
     "metadata": {},
     "output_type": "execute_result"
    }
   ],
   "source": [
    "active_studs.duplicated().sum()"
   ]
  },
  {
   "cell_type": "code",
   "execution_count": 17,
   "metadata": {},
   "outputs": [
    {
     "data": {
      "text/plain": [
       "True"
      ]
     },
     "execution_count": 17,
     "metadata": {},
     "output_type": "execute_result"
    }
   ],
   "source": [
    "active_studs.student_id.nunique() == active_studs.shape[0]"
   ]
  },
  {
   "cell_type": "code",
   "execution_count": 18,
   "metadata": {},
   "outputs": [
    {
     "data": {
      "text/html": [
       "<div>\n",
       "<style scoped>\n",
       "    .dataframe tbody tr th:only-of-type {\n",
       "        vertical-align: middle;\n",
       "    }\n",
       "\n",
       "    .dataframe tbody tr th {\n",
       "        vertical-align: top;\n",
       "    }\n",
       "\n",
       "    .dataframe thead th {\n",
       "        text-align: right;\n",
       "    }\n",
       "</style>\n",
       "<table border=\"1\" class=\"dataframe\">\n",
       "  <thead>\n",
       "    <tr style=\"text-align: right;\">\n",
       "      <th></th>\n",
       "      <th>student_id</th>\n",
       "      <th>active</th>\n",
       "    </tr>\n",
       "  </thead>\n",
       "  <tbody>\n",
       "    <tr>\n",
       "      <th>0</th>\n",
       "      <td>581585</td>\n",
       "      <td>1</td>\n",
       "    </tr>\n",
       "    <tr>\n",
       "      <th>1</th>\n",
       "      <td>5723133</td>\n",
       "      <td>1</td>\n",
       "    </tr>\n",
       "    <tr>\n",
       "      <th>2</th>\n",
       "      <td>3276743</td>\n",
       "      <td>1</td>\n",
       "    </tr>\n",
       "  </tbody>\n",
       "</table>\n",
       "</div>"
      ],
      "text/plain": [
       "   student_id  active\n",
       "0      581585       1\n",
       "1     5723133       1\n",
       "2     3276743       1"
      ]
     },
     "execution_count": 18,
     "metadata": {},
     "output_type": "execute_result"
    }
   ],
   "source": [
    "# присвоим 1 каждому активному пользователю \n",
    "active_studs['active'] = 1\n",
    "active_studs.head(3)"
   ]
  },
  {
   "cell_type": "code",
   "execution_count": 19,
   "metadata": {},
   "outputs": [
    {
     "data": {
      "text/html": [
       "<div>\n",
       "<style scoped>\n",
       "    .dataframe tbody tr th:only-of-type {\n",
       "        vertical-align: middle;\n",
       "    }\n",
       "\n",
       "    .dataframe tbody tr th {\n",
       "        vertical-align: top;\n",
       "    }\n",
       "\n",
       "    .dataframe thead th {\n",
       "        text-align: right;\n",
       "    }\n",
       "</style>\n",
       "<table border=\"1\" class=\"dataframe\">\n",
       "  <thead>\n",
       "    <tr style=\"text-align: right;\">\n",
       "      <th></th>\n",
       "      <th>id</th>\n",
       "      <th>active</th>\n",
       "    </tr>\n",
       "  </thead>\n",
       "  <tbody>\n",
       "    <tr>\n",
       "      <th>0</th>\n",
       "      <td>581585</td>\n",
       "      <td>1</td>\n",
       "    </tr>\n",
       "    <tr>\n",
       "      <th>1</th>\n",
       "      <td>5723133</td>\n",
       "      <td>1</td>\n",
       "    </tr>\n",
       "  </tbody>\n",
       "</table>\n",
       "</div>"
      ],
      "text/plain": [
       "        id  active\n",
       "0   581585       1\n",
       "1  5723133       1"
      ]
     },
     "execution_count": 19,
     "metadata": {},
     "output_type": "execute_result"
    }
   ],
   "source": [
    "# переименуем колонку\n",
    "active_studs = active_studs.rename(columns={'student_id': 'id'})\n",
    "active_studs.head(2)"
   ]
  },
  {
   "cell_type": "markdown",
   "metadata": {},
   "source": [
    "В файле нет пропусков и дубликатов, id являются уникальными, соответствуют кол-ву строк файла\n",
    "- активных пользователей - 8341"
   ]
  },
  {
   "cell_type": "markdown",
   "metadata": {},
   "source": [
    "### checks.csv \n",
    "- файл с информацией об оплатах пользователей в дни проведения эксперимента."
   ]
  },
  {
   "cell_type": "code",
   "execution_count": 20,
   "metadata": {},
   "outputs": [
    {
     "data": {
      "text/html": [
       "<div>\n",
       "<style scoped>\n",
       "    .dataframe tbody tr th:only-of-type {\n",
       "        vertical-align: middle;\n",
       "    }\n",
       "\n",
       "    .dataframe tbody tr th {\n",
       "        vertical-align: top;\n",
       "    }\n",
       "\n",
       "    .dataframe thead th {\n",
       "        text-align: right;\n",
       "    }\n",
       "</style>\n",
       "<table border=\"1\" class=\"dataframe\">\n",
       "  <thead>\n",
       "    <tr style=\"text-align: right;\">\n",
       "      <th></th>\n",
       "      <th>student_id</th>\n",
       "      <th>rev</th>\n",
       "    </tr>\n",
       "  </thead>\n",
       "  <tbody>\n",
       "    <tr>\n",
       "      <th>0</th>\n",
       "      <td>1627</td>\n",
       "      <td>990.0</td>\n",
       "    </tr>\n",
       "    <tr>\n",
       "      <th>1</th>\n",
       "      <td>3185</td>\n",
       "      <td>690.0</td>\n",
       "    </tr>\n",
       "    <tr>\n",
       "      <th>2</th>\n",
       "      <td>25973</td>\n",
       "      <td>690.0</td>\n",
       "    </tr>\n",
       "  </tbody>\n",
       "</table>\n",
       "</div>"
      ],
      "text/plain": [
       "   student_id    rev\n",
       "0        1627  990.0\n",
       "1        3185  690.0\n",
       "2       25973  690.0"
      ]
     },
     "execution_count": 20,
     "metadata": {},
     "output_type": "execute_result"
    }
   ],
   "source": [
    "checks = get_yandex_csv(checks_key, ';')\n",
    "checks.head(3)"
   ]
  },
  {
   "cell_type": "code",
   "execution_count": 21,
   "metadata": {},
   "outputs": [
    {
     "name": "stdout",
     "output_type": "stream",
     "text": [
      "<class 'pandas.core.frame.DataFrame'>\n",
      "RangeIndex: 541 entries, 0 to 540\n",
      "Data columns (total 2 columns):\n",
      " #   Column      Non-Null Count  Dtype  \n",
      "---  ------      --------------  -----  \n",
      " 0   student_id  541 non-null    int64  \n",
      " 1   rev         541 non-null    float64\n",
      "dtypes: float64(1), int64(1)\n",
      "memory usage: 8.6 KB\n"
     ]
    }
   ],
   "source": [
    "checks.info()"
   ]
  },
  {
   "cell_type": "code",
   "execution_count": 22,
   "metadata": {},
   "outputs": [
    {
     "data": {
      "text/plain": [
       "0"
      ]
     },
     "execution_count": 22,
     "metadata": {},
     "output_type": "execute_result"
    }
   ],
   "source": [
    "checks.duplicated().sum()"
   ]
  },
  {
   "cell_type": "code",
   "execution_count": 23,
   "metadata": {},
   "outputs": [
    {
     "data": {
      "text/plain": [
       "True"
      ]
     },
     "execution_count": 23,
     "metadata": {},
     "output_type": "execute_result"
    }
   ],
   "source": [
    "checks.student_id.nunique() == checks.shape[0]"
   ]
  },
  {
   "cell_type": "code",
   "execution_count": 24,
   "metadata": {},
   "outputs": [],
   "source": [
    "# присвоим 1 каждому оплатившему пользователю\n",
    "checks['paid'] = 1"
   ]
  },
  {
   "cell_type": "code",
   "execution_count": 25,
   "metadata": {},
   "outputs": [
    {
     "data": {
      "text/html": [
       "<div>\n",
       "<style scoped>\n",
       "    .dataframe tbody tr th:only-of-type {\n",
       "        vertical-align: middle;\n",
       "    }\n",
       "\n",
       "    .dataframe tbody tr th {\n",
       "        vertical-align: top;\n",
       "    }\n",
       "\n",
       "    .dataframe thead th {\n",
       "        text-align: right;\n",
       "    }\n",
       "</style>\n",
       "<table border=\"1\" class=\"dataframe\">\n",
       "  <thead>\n",
       "    <tr style=\"text-align: right;\">\n",
       "      <th></th>\n",
       "      <th>id</th>\n",
       "      <th>rev</th>\n",
       "      <th>paid</th>\n",
       "    </tr>\n",
       "  </thead>\n",
       "  <tbody>\n",
       "    <tr>\n",
       "      <th>0</th>\n",
       "      <td>1627</td>\n",
       "      <td>990.0</td>\n",
       "      <td>1</td>\n",
       "    </tr>\n",
       "    <tr>\n",
       "      <th>1</th>\n",
       "      <td>3185</td>\n",
       "      <td>690.0</td>\n",
       "      <td>1</td>\n",
       "    </tr>\n",
       "  </tbody>\n",
       "</table>\n",
       "</div>"
      ],
      "text/plain": [
       "     id    rev  paid\n",
       "0  1627  990.0     1\n",
       "1  3185  690.0     1"
      ]
     },
     "execution_count": 25,
     "metadata": {},
     "output_type": "execute_result"
    }
   ],
   "source": [
    "# переименуем колонку\n",
    "checks = checks.rename(columns={'student_id': 'id'})\n",
    "checks.head(2)"
   ]
  },
  {
   "cell_type": "code",
   "execution_count": 26,
   "metadata": {},
   "outputs": [
    {
     "data": {
      "text/plain": [
       "573326.0035999999"
      ]
     },
     "execution_count": 26,
     "metadata": {},
     "output_type": "execute_result"
    }
   ],
   "source": [
    "# общая сумма в файле\n",
    "checks.rev.sum()"
   ]
  },
  {
   "cell_type": "markdown",
   "metadata": {},
   "source": [
    "В файле нет пропусков и дубликатов, id являются уникальными, соответствуют кол-ву строк файла.\n",
    "- кол-во пользователей, которые произвели оплату - 541\n",
    "- общая сумма оплат в файле  - 573 326 руб"
   ]
  },
  {
   "cell_type": "markdown",
   "metadata": {},
   "source": [
    "### Объединение таблиц и исследование данных"
   ]
  },
  {
   "cell_type": "code",
   "execution_count": 27,
   "metadata": {},
   "outputs": [
    {
     "data": {
      "text/html": [
       "<div>\n",
       "<style scoped>\n",
       "    .dataframe tbody tr th:only-of-type {\n",
       "        vertical-align: middle;\n",
       "    }\n",
       "\n",
       "    .dataframe tbody tr th {\n",
       "        vertical-align: top;\n",
       "    }\n",
       "\n",
       "    .dataframe thead th {\n",
       "        text-align: right;\n",
       "    }\n",
       "</style>\n",
       "<table border=\"1\" class=\"dataframe\">\n",
       "  <thead>\n",
       "    <tr style=\"text-align: right;\">\n",
       "      <th></th>\n",
       "      <th>id</th>\n",
       "      <th>grp</th>\n",
       "    </tr>\n",
       "  </thead>\n",
       "  <tbody>\n",
       "    <tr>\n",
       "      <th>0</th>\n",
       "      <td>1489</td>\n",
       "      <td>B</td>\n",
       "    </tr>\n",
       "  </tbody>\n",
       "</table>\n",
       "</div>"
      ],
      "text/plain": [
       "     id grp\n",
       "0  1489   B"
      ]
     },
     "execution_count": 27,
     "metadata": {},
     "output_type": "execute_result"
    }
   ],
   "source": [
    "groups.head(1)"
   ]
  },
  {
   "cell_type": "code",
   "execution_count": 28,
   "metadata": {},
   "outputs": [
    {
     "data": {
      "text/html": [
       "<div>\n",
       "<style scoped>\n",
       "    .dataframe tbody tr th:only-of-type {\n",
       "        vertical-align: middle;\n",
       "    }\n",
       "\n",
       "    .dataframe tbody tr th {\n",
       "        vertical-align: top;\n",
       "    }\n",
       "\n",
       "    .dataframe thead th {\n",
       "        text-align: right;\n",
       "    }\n",
       "</style>\n",
       "<table border=\"1\" class=\"dataframe\">\n",
       "  <thead>\n",
       "    <tr style=\"text-align: right;\">\n",
       "      <th></th>\n",
       "      <th>id</th>\n",
       "      <th>grp</th>\n",
       "    </tr>\n",
       "  </thead>\n",
       "  <tbody>\n",
       "    <tr>\n",
       "      <th>0</th>\n",
       "      <td>5694584</td>\n",
       "      <td>B</td>\n",
       "    </tr>\n",
       "  </tbody>\n",
       "</table>\n",
       "</div>"
      ],
      "text/plain": [
       "        id grp\n",
       "0  5694584   B"
      ]
     },
     "execution_count": 28,
     "metadata": {},
     "output_type": "execute_result"
    }
   ],
   "source": [
    "groups_add.head(1)"
   ]
  },
  {
   "cell_type": "code",
   "execution_count": 29,
   "metadata": {},
   "outputs": [
    {
     "data": {
      "text/html": [
       "<div>\n",
       "<style scoped>\n",
       "    .dataframe tbody tr th:only-of-type {\n",
       "        vertical-align: middle;\n",
       "    }\n",
       "\n",
       "    .dataframe tbody tr th {\n",
       "        vertical-align: top;\n",
       "    }\n",
       "\n",
       "    .dataframe thead th {\n",
       "        text-align: right;\n",
       "    }\n",
       "</style>\n",
       "<table border=\"1\" class=\"dataframe\">\n",
       "  <thead>\n",
       "    <tr style=\"text-align: right;\">\n",
       "      <th></th>\n",
       "      <th>id</th>\n",
       "      <th>grp_x</th>\n",
       "      <th>grp_y</th>\n",
       "    </tr>\n",
       "  </thead>\n",
       "  <tbody>\n",
       "  </tbody>\n",
       "</table>\n",
       "</div>"
      ],
      "text/plain": [
       "Empty DataFrame\n",
       "Columns: [id, grp_x, grp_y]\n",
       "Index: []"
      ]
     },
     "execution_count": 29,
     "metadata": {},
     "output_type": "execute_result"
    }
   ],
   "source": [
    "# пробуем смержить оба файла, но видим, что id не совпадают\n",
    "groups.merge(groups_add, on='id')"
   ]
  },
  {
   "cell_type": "code",
   "execution_count": 30,
   "metadata": {},
   "outputs": [
    {
     "data": {
      "text/html": [
       "<div>\n",
       "<style scoped>\n",
       "    .dataframe tbody tr th:only-of-type {\n",
       "        vertical-align: middle;\n",
       "    }\n",
       "\n",
       "    .dataframe tbody tr th {\n",
       "        vertical-align: top;\n",
       "    }\n",
       "\n",
       "    .dataframe thead th {\n",
       "        text-align: right;\n",
       "    }\n",
       "</style>\n",
       "<table border=\"1\" class=\"dataframe\">\n",
       "  <thead>\n",
       "    <tr style=\"text-align: right;\">\n",
       "      <th></th>\n",
       "      <th>id</th>\n",
       "      <th>group</th>\n",
       "    </tr>\n",
       "  </thead>\n",
       "  <tbody>\n",
       "    <tr>\n",
       "      <th>0</th>\n",
       "      <td>1489</td>\n",
       "      <td>B</td>\n",
       "    </tr>\n",
       "    <tr>\n",
       "      <th>1</th>\n",
       "      <td>1627</td>\n",
       "      <td>A</td>\n",
       "    </tr>\n",
       "    <tr>\n",
       "      <th>2</th>\n",
       "      <td>1768</td>\n",
       "      <td>B</td>\n",
       "    </tr>\n",
       "  </tbody>\n",
       "</table>\n",
       "</div>"
      ],
      "text/plain": [
       "     id group\n",
       "0  1489     B\n",
       "1  1627     A\n",
       "2  1768     B"
      ]
     },
     "execution_count": 30,
     "metadata": {},
     "output_type": "execute_result"
    }
   ],
   "source": [
    "# соединим оба файла \n",
    "shared_group = pd.concat([groups, groups_add], ignore_index=True).rename(columns={'grp': 'group'})\n",
    "shared_group.head(3)"
   ]
  },
  {
   "cell_type": "code",
   "execution_count": 31,
   "metadata": {},
   "outputs": [
    {
     "name": "stdout",
     "output_type": "stream",
     "text": [
      "<class 'pandas.core.frame.DataFrame'>\n",
      "RangeIndex: 74576 entries, 0 to 74575\n",
      "Data columns (total 2 columns):\n",
      " #   Column  Non-Null Count  Dtype \n",
      "---  ------  --------------  ----- \n",
      " 0   id      74576 non-null  int64 \n",
      " 1   group   74576 non-null  object\n",
      "dtypes: int64(1), object(1)\n",
      "memory usage: 1.1+ MB\n"
     ]
    }
   ],
   "source": [
    "shared_group.info()"
   ]
  },
  {
   "cell_type": "code",
   "execution_count": 32,
   "metadata": {},
   "outputs": [
    {
     "data": {
      "text/plain": [
       "74576"
      ]
     },
     "execution_count": 32,
     "metadata": {},
     "output_type": "execute_result"
    }
   ],
   "source": [
    "groups.shape[0]+groups_add.shape[0]"
   ]
  },
  {
   "cell_type": "code",
   "execution_count": 33,
   "metadata": {},
   "outputs": [
    {
     "data": {
      "text/plain": [
       "True"
      ]
     },
     "execution_count": 33,
     "metadata": {},
     "output_type": "execute_result"
    }
   ],
   "source": [
    "shared_group.id.nunique()==shared_group.shape[0]"
   ]
  },
  {
   "cell_type": "code",
   "execution_count": 34,
   "metadata": {},
   "outputs": [
    {
     "data": {
      "text/html": [
       "<div>\n",
       "<style scoped>\n",
       "    .dataframe tbody tr th:only-of-type {\n",
       "        vertical-align: middle;\n",
       "    }\n",
       "\n",
       "    .dataframe tbody tr th {\n",
       "        vertical-align: top;\n",
       "    }\n",
       "\n",
       "    .dataframe thead th {\n",
       "        text-align: right;\n",
       "    }\n",
       "</style>\n",
       "<table border=\"1\" class=\"dataframe\">\n",
       "  <thead>\n",
       "    <tr style=\"text-align: right;\">\n",
       "      <th></th>\n",
       "      <th>group</th>\n",
       "      <th>count_users</th>\n",
       "    </tr>\n",
       "  </thead>\n",
       "  <tbody>\n",
       "    <tr>\n",
       "      <th>0</th>\n",
       "      <td>A</td>\n",
       "      <td>14693</td>\n",
       "    </tr>\n",
       "    <tr>\n",
       "      <th>1</th>\n",
       "      <td>B</td>\n",
       "      <td>59883</td>\n",
       "    </tr>\n",
       "  </tbody>\n",
       "</table>\n",
       "</div>"
      ],
      "text/plain": [
       "  group  count_users\n",
       "0     A        14693\n",
       "1     B        59883"
      ]
     },
     "execution_count": 34,
     "metadata": {},
     "output_type": "execute_result"
    }
   ],
   "source": [
    "total_users = shared_group\\\n",
    "    .groupby('group',as_index=False)\\\n",
    "    .agg({'id': 'count'})\\\n",
    "    .rename(columns={'id': 'count_users'})\n",
    "total_users"
   ]
  },
  {
   "cell_type": "code",
   "execution_count": 35,
   "metadata": {},
   "outputs": [
    {
     "data": {
      "text/html": [
       "<div>\n",
       "<style scoped>\n",
       "    .dataframe tbody tr th:only-of-type {\n",
       "        vertical-align: middle;\n",
       "    }\n",
       "\n",
       "    .dataframe tbody tr th {\n",
       "        vertical-align: top;\n",
       "    }\n",
       "\n",
       "    .dataframe thead th {\n",
       "        text-align: right;\n",
       "    }\n",
       "</style>\n",
       "<table border=\"1\" class=\"dataframe\">\n",
       "  <thead>\n",
       "    <tr style=\"text-align: right;\">\n",
       "      <th></th>\n",
       "      <th>group</th>\n",
       "      <th>count_users</th>\n",
       "      <th>percent</th>\n",
       "    </tr>\n",
       "  </thead>\n",
       "  <tbody>\n",
       "    <tr>\n",
       "      <th>0</th>\n",
       "      <td>A</td>\n",
       "      <td>14693</td>\n",
       "      <td>19.7</td>\n",
       "    </tr>\n",
       "    <tr>\n",
       "      <th>1</th>\n",
       "      <td>B</td>\n",
       "      <td>59883</td>\n",
       "      <td>80.3</td>\n",
       "    </tr>\n",
       "  </tbody>\n",
       "</table>\n",
       "</div>"
      ],
      "text/plain": [
       "  group  count_users  percent\n",
       "0     A        14693     19.7\n",
       "1     B        59883     80.3"
      ]
     },
     "execution_count": 35,
     "metadata": {},
     "output_type": "execute_result"
    }
   ],
   "source": [
    "total_users['percent'] = round(total_users.count_users / shared_group.shape[0]*100, 2)\n",
    "total_users"
   ]
  },
  {
   "cell_type": "markdown",
   "metadata": {},
   "source": [
    "Все id уникальны, видим значительные различия по кол-ву пользователей в группах\n",
    "    \n",
    "- группа A - 14 693 пользователя (19.7%)\n",
    "- группа B - 59 883 пользователя (80.3%)"
   ]
  },
  {
   "cell_type": "code",
   "execution_count": 85,
   "metadata": {},
   "outputs": [
    {
     "data": {
      "text/html": [
       "<div>\n",
       "<style scoped>\n",
       "    .dataframe tbody tr th:only-of-type {\n",
       "        vertical-align: middle;\n",
       "    }\n",
       "\n",
       "    .dataframe tbody tr th {\n",
       "        vertical-align: top;\n",
       "    }\n",
       "\n",
       "    .dataframe thead th {\n",
       "        text-align: right;\n",
       "    }\n",
       "</style>\n",
       "<table border=\"1\" class=\"dataframe\">\n",
       "  <thead>\n",
       "    <tr style=\"text-align: right;\">\n",
       "      <th></th>\n",
       "      <th>id</th>\n",
       "      <th>group</th>\n",
       "      <th>rev</th>\n",
       "      <th>paid</th>\n",
       "    </tr>\n",
       "  </thead>\n",
       "  <tbody>\n",
       "    <tr>\n",
       "      <th>0</th>\n",
       "      <td>1627</td>\n",
       "      <td>A</td>\n",
       "      <td>990.0</td>\n",
       "      <td>1</td>\n",
       "    </tr>\n",
       "    <tr>\n",
       "      <th>1</th>\n",
       "      <td>3185</td>\n",
       "      <td>B</td>\n",
       "      <td>690.0</td>\n",
       "      <td>1</td>\n",
       "    </tr>\n",
       "    <tr>\n",
       "      <th>2</th>\n",
       "      <td>25973</td>\n",
       "      <td>B</td>\n",
       "      <td>690.0</td>\n",
       "      <td>1</td>\n",
       "    </tr>\n",
       "    <tr>\n",
       "      <th>3</th>\n",
       "      <td>26280</td>\n",
       "      <td>B</td>\n",
       "      <td>690.0</td>\n",
       "      <td>1</td>\n",
       "    </tr>\n",
       "    <tr>\n",
       "      <th>4</th>\n",
       "      <td>100300</td>\n",
       "      <td>B</td>\n",
       "      <td>990.0</td>\n",
       "      <td>1</td>\n",
       "    </tr>\n",
       "  </tbody>\n",
       "</table>\n",
       "</div>"
      ],
      "text/plain": [
       "       id group    rev  paid\n",
       "0    1627     A  990.0     1\n",
       "1    3185     B  690.0     1\n",
       "2   25973     B  690.0     1\n",
       "3   26280     B  690.0     1\n",
       "4  100300     B  990.0     1"
      ]
     },
     "execution_count": 85,
     "metadata": {},
     "output_type": "execute_result"
    }
   ],
   "source": [
    "# смержим общую таблицу пользователей с таблицей оплат\n",
    "paid_users = shared_group.merge(checks, on='id')\n",
    "paid_users.head()"
   ]
  },
  {
   "cell_type": "code",
   "execution_count": 37,
   "metadata": {},
   "outputs": [
    {
     "data": {
      "text/html": [
       "<div>\n",
       "<style scoped>\n",
       "    .dataframe tbody tr th:only-of-type {\n",
       "        vertical-align: middle;\n",
       "    }\n",
       "\n",
       "    .dataframe tbody tr th {\n",
       "        vertical-align: top;\n",
       "    }\n",
       "\n",
       "    .dataframe thead th {\n",
       "        text-align: right;\n",
       "    }\n",
       "</style>\n",
       "<table border=\"1\" class=\"dataframe\">\n",
       "  <thead>\n",
       "    <tr style=\"text-align: right;\">\n",
       "      <th></th>\n",
       "      <th>group</th>\n",
       "      <th>id</th>\n",
       "    </tr>\n",
       "  </thead>\n",
       "  <tbody>\n",
       "    <tr>\n",
       "      <th>0</th>\n",
       "      <td>A</td>\n",
       "      <td>107</td>\n",
       "    </tr>\n",
       "    <tr>\n",
       "      <th>1</th>\n",
       "      <td>B</td>\n",
       "      <td>434</td>\n",
       "    </tr>\n",
       "  </tbody>\n",
       "</table>\n",
       "</div>"
      ],
      "text/plain": [
       "  group   id\n",
       "0     A  107\n",
       "1     B  434"
      ]
     },
     "execution_count": 37,
     "metadata": {},
     "output_type": "execute_result"
    }
   ],
   "source": [
    "# посмотрим на кол-во оплат по группам\n",
    "paid_users.groupby('group', as_index=False).agg({'id': 'count'})"
   ]
  },
  {
   "cell_type": "code",
   "execution_count": 38,
   "metadata": {},
   "outputs": [
    {
     "data": {
      "text/html": [
       "<div>\n",
       "<style scoped>\n",
       "    .dataframe tbody tr th:only-of-type {\n",
       "        vertical-align: middle;\n",
       "    }\n",
       "\n",
       "    .dataframe tbody tr th {\n",
       "        vertical-align: top;\n",
       "    }\n",
       "\n",
       "    .dataframe thead th {\n",
       "        text-align: right;\n",
       "    }\n",
       "</style>\n",
       "<table border=\"1\" class=\"dataframe\">\n",
       "  <thead>\n",
       "    <tr style=\"text-align: right;\">\n",
       "      <th></th>\n",
       "      <th>group</th>\n",
       "      <th>rev</th>\n",
       "    </tr>\n",
       "  </thead>\n",
       "  <tbody>\n",
       "    <tr>\n",
       "      <th>0</th>\n",
       "      <td>A</td>\n",
       "      <td>92096.0000</td>\n",
       "    </tr>\n",
       "    <tr>\n",
       "      <th>1</th>\n",
       "      <td>B</td>\n",
       "      <td>481230.0036</td>\n",
       "    </tr>\n",
       "  </tbody>\n",
       "</table>\n",
       "</div>"
      ],
      "text/plain": [
       "  group          rev\n",
       "0     A   92096.0000\n",
       "1     B  481230.0036"
      ]
     },
     "execution_count": 38,
     "metadata": {},
     "output_type": "execute_result"
    }
   ],
   "source": [
    "# посмотрим на общую выручку по группам\n",
    "paid_users.groupby('group', as_index=False).agg({'rev': 'sum'})"
   ]
  },
  {
   "cell_type": "code",
   "execution_count": 39,
   "metadata": {},
   "outputs": [
    {
     "data": {
      "text/html": [
       "<div>\n",
       "<style scoped>\n",
       "    .dataframe tbody tr th:only-of-type {\n",
       "        vertical-align: middle;\n",
       "    }\n",
       "\n",
       "    .dataframe tbody tr th {\n",
       "        vertical-align: top;\n",
       "    }\n",
       "\n",
       "    .dataframe thead th {\n",
       "        text-align: right;\n",
       "    }\n",
       "</style>\n",
       "<table border=\"1\" class=\"dataframe\">\n",
       "  <thead>\n",
       "    <tr style=\"text-align: right;\">\n",
       "      <th></th>\n",
       "      <th>id</th>\n",
       "      <th>active</th>\n",
       "      <th>revenue</th>\n",
       "      <th>paid</th>\n",
       "    </tr>\n",
       "  </thead>\n",
       "  <tbody>\n",
       "    <tr>\n",
       "      <th>0</th>\n",
       "      <td>581585</td>\n",
       "      <td>1</td>\n",
       "      <td>NaN</td>\n",
       "      <td>NaN</td>\n",
       "    </tr>\n",
       "    <tr>\n",
       "      <th>1</th>\n",
       "      <td>5723133</td>\n",
       "      <td>1</td>\n",
       "      <td>NaN</td>\n",
       "      <td>NaN</td>\n",
       "    </tr>\n",
       "    <tr>\n",
       "      <th>2</th>\n",
       "      <td>3276743</td>\n",
       "      <td>1</td>\n",
       "      <td>NaN</td>\n",
       "      <td>NaN</td>\n",
       "    </tr>\n",
       "  </tbody>\n",
       "</table>\n",
       "</div>"
      ],
      "text/plain": [
       "        id  active  revenue  paid\n",
       "0   581585       1      NaN   NaN\n",
       "1  5723133       1      NaN   NaN\n",
       "2  3276743       1      NaN   NaN"
      ]
     },
     "execution_count": 39,
     "metadata": {},
     "output_type": "execute_result"
    }
   ],
   "source": [
    "# объединим таблицы active_studs с checks и переименуем колонки\n",
    "active_checks = active_studs.merge(checks, on='id', how='left')\\\n",
    "    .rename(columns={'rev': 'revenue'})\n",
    "active_checks.head(3)"
   ]
  },
  {
   "cell_type": "code",
   "execution_count": 40,
   "metadata": {},
   "outputs": [
    {
     "data": {
      "text/plain": [
       "8341"
      ]
     },
     "execution_count": 40,
     "metadata": {},
     "output_type": "execute_result"
    }
   ],
   "source": [
    "active_checks.shape[0]"
   ]
  },
  {
   "cell_type": "code",
   "execution_count": 41,
   "metadata": {},
   "outputs": [
    {
     "data": {
      "text/plain": [
       "0"
      ]
     },
     "execution_count": 41,
     "metadata": {},
     "output_type": "execute_result"
    }
   ],
   "source": [
    "# дубликатов нет\n",
    "active_checks.duplicated().sum()"
   ]
  },
  {
   "cell_type": "code",
   "execution_count": 42,
   "metadata": {},
   "outputs": [
    {
     "data": {
      "text/plain": [
       "id            0\n",
       "active        0\n",
       "revenue    7949\n",
       "paid       7949\n",
       "dtype: int64"
      ]
     },
     "execution_count": 42,
     "metadata": {},
     "output_type": "execute_result"
    }
   ],
   "source": [
    "# пропусков 7949\n",
    "active_checks.isna().sum()"
   ]
  },
  {
   "cell_type": "code",
   "execution_count": 43,
   "metadata": {},
   "outputs": [
    {
     "name": "stdout",
     "output_type": "stream",
     "text": [
      "<class 'pandas.core.frame.DataFrame'>\n",
      "Int64Index: 8341 entries, 0 to 8340\n",
      "Data columns (total 4 columns):\n",
      " #   Column   Non-Null Count  Dtype  \n",
      "---  ------   --------------  -----  \n",
      " 0   id       8341 non-null   int64  \n",
      " 1   active   8341 non-null   int64  \n",
      " 2   revenue  392 non-null    float64\n",
      " 3   paid     392 non-null    float64\n",
      "dtypes: float64(2), int64(2)\n",
      "memory usage: 325.8 KB\n"
     ]
    }
   ],
   "source": [
    "active_checks.info()"
   ]
  },
  {
   "cell_type": "code",
   "execution_count": 44,
   "metadata": {},
   "outputs": [
    {
     "data": {
      "text/plain": [
       "149"
      ]
     },
     "execution_count": 44,
     "metadata": {},
     "output_type": "execute_result"
    }
   ],
   "source": [
    "checks.shape[0] - active_checks.revenue.count() "
   ]
  },
  {
   "cell_type": "markdown",
   "metadata": {},
   "source": [
    "Замечаем, что в таблицу активных пользователей попали 392 id пользователя из 541, которые проводили платеж.\n",
    "Разница - 149 пользователей. Можем предположить, что либо был технический сбой, либо возможно был автоплатеж, тк во время эксперимента эти пользователи были неактивны.\n",
    "\n",
    "Для проведения теста нам нужны те пользователи, которые зашли на платформу в дни эксперимента. Принимаем решение, что 149 пользователей, id которых нет в списке активных пользователей, далее учитывать не будем."
   ]
  },
  {
   "cell_type": "code",
   "execution_count": 45,
   "metadata": {},
   "outputs": [
    {
     "data": {
      "text/html": [
       "<div>\n",
       "<style scoped>\n",
       "    .dataframe tbody tr th:only-of-type {\n",
       "        vertical-align: middle;\n",
       "    }\n",
       "\n",
       "    .dataframe tbody tr th {\n",
       "        vertical-align: top;\n",
       "    }\n",
       "\n",
       "    .dataframe thead th {\n",
       "        text-align: right;\n",
       "    }\n",
       "</style>\n",
       "<table border=\"1\" class=\"dataframe\">\n",
       "  <thead>\n",
       "    <tr style=\"text-align: right;\">\n",
       "      <th></th>\n",
       "      <th>id</th>\n",
       "      <th>group</th>\n",
       "      <th>active</th>\n",
       "      <th>revenue</th>\n",
       "      <th>paid</th>\n",
       "    </tr>\n",
       "  </thead>\n",
       "  <tbody>\n",
       "    <tr>\n",
       "      <th>0</th>\n",
       "      <td>1489</td>\n",
       "      <td>B</td>\n",
       "      <td>NaN</td>\n",
       "      <td>NaN</td>\n",
       "      <td>NaN</td>\n",
       "    </tr>\n",
       "    <tr>\n",
       "      <th>1</th>\n",
       "      <td>1627</td>\n",
       "      <td>A</td>\n",
       "      <td>1.0</td>\n",
       "      <td>990.0</td>\n",
       "      <td>1.0</td>\n",
       "    </tr>\n",
       "    <tr>\n",
       "      <th>2</th>\n",
       "      <td>1768</td>\n",
       "      <td>B</td>\n",
       "      <td>NaN</td>\n",
       "      <td>NaN</td>\n",
       "      <td>NaN</td>\n",
       "    </tr>\n",
       "    <tr>\n",
       "      <th>3</th>\n",
       "      <td>1783</td>\n",
       "      <td>B</td>\n",
       "      <td>NaN</td>\n",
       "      <td>NaN</td>\n",
       "      <td>NaN</td>\n",
       "    </tr>\n",
       "    <tr>\n",
       "      <th>4</th>\n",
       "      <td>1794</td>\n",
       "      <td>A</td>\n",
       "      <td>NaN</td>\n",
       "      <td>NaN</td>\n",
       "      <td>NaN</td>\n",
       "    </tr>\n",
       "  </tbody>\n",
       "</table>\n",
       "</div>"
      ],
      "text/plain": [
       "     id group  active  revenue  paid\n",
       "0  1489     B     NaN      NaN   NaN\n",
       "1  1627     A     1.0    990.0   1.0\n",
       "2  1768     B     NaN      NaN   NaN\n",
       "3  1783     B     NaN      NaN   NaN\n",
       "4  1794     A     NaN      NaN   NaN"
      ]
     },
     "execution_count": 45,
     "metadata": {},
     "output_type": "execute_result"
    }
   ],
   "source": [
    "# объединим файлы в итоговую таблицу\n",
    "general_file = shared_group.merge(active_checks, on='id', how='left')\n",
    "general_file.head()"
   ]
  },
  {
   "cell_type": "code",
   "execution_count": 46,
   "metadata": {},
   "outputs": [
    {
     "data": {
      "text/plain": [
       "0"
      ]
     },
     "execution_count": 46,
     "metadata": {},
     "output_type": "execute_result"
    }
   ],
   "source": [
    "general_file.duplicated().sum()"
   ]
  },
  {
   "cell_type": "code",
   "execution_count": 47,
   "metadata": {},
   "outputs": [
    {
     "name": "stdout",
     "output_type": "stream",
     "text": [
      "<class 'pandas.core.frame.DataFrame'>\n",
      "Int64Index: 74576 entries, 0 to 74575\n",
      "Data columns (total 5 columns):\n",
      " #   Column   Non-Null Count  Dtype  \n",
      "---  ------   --------------  -----  \n",
      " 0   id       74576 non-null  int64  \n",
      " 1   group    74576 non-null  object \n",
      " 2   active   8341 non-null   float64\n",
      " 3   revenue  392 non-null    float64\n",
      " 4   paid     392 non-null    float64\n",
      "dtypes: float64(3), int64(1), object(1)\n",
      "memory usage: 3.4+ MB\n"
     ]
    }
   ],
   "source": [
    "general_file.info()"
   ]
  },
  {
   "cell_type": "code",
   "execution_count": 48,
   "metadata": {},
   "outputs": [
    {
     "data": {
      "text/plain": [
       "id             0\n",
       "group          0\n",
       "active     66235\n",
       "revenue    74184\n",
       "paid       74184\n",
       "dtype: int64"
      ]
     },
     "execution_count": 48,
     "metadata": {},
     "output_type": "execute_result"
    }
   ],
   "source": [
    "# кол-во пропусков \n",
    "general_file.isna().sum()"
   ]
  },
  {
   "cell_type": "code",
   "execution_count": 49,
   "metadata": {},
   "outputs": [
    {
     "data": {
      "text/html": [
       "<div>\n",
       "<style scoped>\n",
       "    .dataframe tbody tr th:only-of-type {\n",
       "        vertical-align: middle;\n",
       "    }\n",
       "\n",
       "    .dataframe tbody tr th {\n",
       "        vertical-align: top;\n",
       "    }\n",
       "\n",
       "    .dataframe thead th {\n",
       "        text-align: right;\n",
       "    }\n",
       "</style>\n",
       "<table border=\"1\" class=\"dataframe\">\n",
       "  <thead>\n",
       "    <tr style=\"text-align: right;\">\n",
       "      <th></th>\n",
       "      <th>id</th>\n",
       "      <th>group</th>\n",
       "      <th>active</th>\n",
       "      <th>revenue</th>\n",
       "      <th>paid</th>\n",
       "    </tr>\n",
       "  </thead>\n",
       "  <tbody>\n",
       "    <tr>\n",
       "      <th>0</th>\n",
       "      <td>1489</td>\n",
       "      <td>B</td>\n",
       "      <td>0.0</td>\n",
       "      <td>0.0</td>\n",
       "      <td>0.0</td>\n",
       "    </tr>\n",
       "    <tr>\n",
       "      <th>1</th>\n",
       "      <td>1627</td>\n",
       "      <td>A</td>\n",
       "      <td>1.0</td>\n",
       "      <td>990.0</td>\n",
       "      <td>1.0</td>\n",
       "    </tr>\n",
       "    <tr>\n",
       "      <th>2</th>\n",
       "      <td>1768</td>\n",
       "      <td>B</td>\n",
       "      <td>0.0</td>\n",
       "      <td>0.0</td>\n",
       "      <td>0.0</td>\n",
       "    </tr>\n",
       "  </tbody>\n",
       "</table>\n",
       "</div>"
      ],
      "text/plain": [
       "     id group  active  revenue  paid\n",
       "0  1489     B     0.0      0.0   0.0\n",
       "1  1627     A     1.0    990.0   1.0\n",
       "2  1768     B     0.0      0.0   0.0"
      ]
     },
     "execution_count": 49,
     "metadata": {},
     "output_type": "execute_result"
    }
   ],
   "source": [
    "# заполним все пропуски 0\n",
    "general_file = general_file.fillna(0)\n",
    "general_file.head(3)"
   ]
  },
  {
   "cell_type": "code",
   "execution_count": 50,
   "metadata": {},
   "outputs": [
    {
     "data": {
      "text/html": [
       "<div>\n",
       "<style scoped>\n",
       "    .dataframe tbody tr th:only-of-type {\n",
       "        vertical-align: middle;\n",
       "    }\n",
       "\n",
       "    .dataframe tbody tr th {\n",
       "        vertical-align: top;\n",
       "    }\n",
       "\n",
       "    .dataframe thead th {\n",
       "        text-align: right;\n",
       "    }\n",
       "</style>\n",
       "<table border=\"1\" class=\"dataframe\">\n",
       "  <thead>\n",
       "    <tr style=\"text-align: right;\">\n",
       "      <th></th>\n",
       "      <th>group</th>\n",
       "      <th>active</th>\n",
       "      <th>paid</th>\n",
       "      <th>users_count</th>\n",
       "      <th>total_sum</th>\n",
       "    </tr>\n",
       "  </thead>\n",
       "  <tbody>\n",
       "    <tr>\n",
       "      <th>0</th>\n",
       "      <td>A</td>\n",
       "      <td>0.0</td>\n",
       "      <td>0.0</td>\n",
       "      <td>13155</td>\n",
       "      <td>0.0000</td>\n",
       "    </tr>\n",
       "    <tr>\n",
       "      <th>1</th>\n",
       "      <td>A</td>\n",
       "      <td>1.0</td>\n",
       "      <td>0.0</td>\n",
       "      <td>1460</td>\n",
       "      <td>0.0000</td>\n",
       "    </tr>\n",
       "    <tr>\n",
       "      <th>2</th>\n",
       "      <td>A</td>\n",
       "      <td>1.0</td>\n",
       "      <td>1.0</td>\n",
       "      <td>78</td>\n",
       "      <td>72820.0000</td>\n",
       "    </tr>\n",
       "    <tr>\n",
       "      <th>3</th>\n",
       "      <td>B</td>\n",
       "      <td>0.0</td>\n",
       "      <td>0.0</td>\n",
       "      <td>53080</td>\n",
       "      <td>0.0000</td>\n",
       "    </tr>\n",
       "    <tr>\n",
       "      <th>4</th>\n",
       "      <td>B</td>\n",
       "      <td>1.0</td>\n",
       "      <td>0.0</td>\n",
       "      <td>6489</td>\n",
       "      <td>0.0000</td>\n",
       "    </tr>\n",
       "    <tr>\n",
       "      <th>5</th>\n",
       "      <td>B</td>\n",
       "      <td>1.0</td>\n",
       "      <td>1.0</td>\n",
       "      <td>314</td>\n",
       "      <td>394974.0035</td>\n",
       "    </tr>\n",
       "  </tbody>\n",
       "</table>\n",
       "</div>"
      ],
      "text/plain": [
       "  group  active  paid  users_count    total_sum\n",
       "0     A     0.0   0.0        13155       0.0000\n",
       "1     A     1.0   0.0         1460       0.0000\n",
       "2     A     1.0   1.0           78   72820.0000\n",
       "3     B     0.0   0.0        53080       0.0000\n",
       "4     B     1.0   0.0         6489       0.0000\n",
       "5     B     1.0   1.0          314  394974.0035"
      ]
     },
     "execution_count": 50,
     "metadata": {},
     "output_type": "execute_result"
    }
   ],
   "source": [
    "# посмотрим как распределяются пользователи по группам\n",
    "percent_total = general_file\\\n",
    "    .groupby(['group', 'active', 'paid'], as_index=False)\\\n",
    "    .agg({'id': 'count', 'revenue': 'sum'})\\\n",
    "    .rename(columns={'id': 'users_count', 'revenue': 'total_sum'})\n",
    "percent_total"
   ]
  },
  {
   "cell_type": "code",
   "execution_count": 51,
   "metadata": {},
   "outputs": [
    {
     "data": {
      "text/html": [
       "<div>\n",
       "<style scoped>\n",
       "    .dataframe tbody tr th:only-of-type {\n",
       "        vertical-align: middle;\n",
       "    }\n",
       "\n",
       "    .dataframe tbody tr th {\n",
       "        vertical-align: top;\n",
       "    }\n",
       "\n",
       "    .dataframe thead th {\n",
       "        text-align: right;\n",
       "    }\n",
       "</style>\n",
       "<table border=\"1\" class=\"dataframe\">\n",
       "  <thead>\n",
       "    <tr style=\"text-align: right;\">\n",
       "      <th></th>\n",
       "      <th>group</th>\n",
       "      <th>active</th>\n",
       "      <th>paid</th>\n",
       "      <th>users_count</th>\n",
       "      <th>total_sum</th>\n",
       "      <th>%users</th>\n",
       "      <th>%total_sum</th>\n",
       "    </tr>\n",
       "  </thead>\n",
       "  <tbody>\n",
       "    <tr>\n",
       "      <th>0</th>\n",
       "      <td>A</td>\n",
       "      <td>0.0</td>\n",
       "      <td>0.0</td>\n",
       "      <td>13155</td>\n",
       "      <td>0.0000</td>\n",
       "      <td>17.64</td>\n",
       "      <td>0.00</td>\n",
       "    </tr>\n",
       "    <tr>\n",
       "      <th>1</th>\n",
       "      <td>A</td>\n",
       "      <td>1.0</td>\n",
       "      <td>0.0</td>\n",
       "      <td>1460</td>\n",
       "      <td>0.0000</td>\n",
       "      <td>1.96</td>\n",
       "      <td>0.00</td>\n",
       "    </tr>\n",
       "    <tr>\n",
       "      <th>2</th>\n",
       "      <td>A</td>\n",
       "      <td>1.0</td>\n",
       "      <td>1.0</td>\n",
       "      <td>78</td>\n",
       "      <td>72820.0000</td>\n",
       "      <td>0.10</td>\n",
       "      <td>15.57</td>\n",
       "    </tr>\n",
       "    <tr>\n",
       "      <th>3</th>\n",
       "      <td>B</td>\n",
       "      <td>0.0</td>\n",
       "      <td>0.0</td>\n",
       "      <td>53080</td>\n",
       "      <td>0.0000</td>\n",
       "      <td>71.18</td>\n",
       "      <td>0.00</td>\n",
       "    </tr>\n",
       "    <tr>\n",
       "      <th>4</th>\n",
       "      <td>B</td>\n",
       "      <td>1.0</td>\n",
       "      <td>0.0</td>\n",
       "      <td>6489</td>\n",
       "      <td>0.0000</td>\n",
       "      <td>8.70</td>\n",
       "      <td>0.00</td>\n",
       "    </tr>\n",
       "    <tr>\n",
       "      <th>5</th>\n",
       "      <td>B</td>\n",
       "      <td>1.0</td>\n",
       "      <td>1.0</td>\n",
       "      <td>314</td>\n",
       "      <td>394974.0035</td>\n",
       "      <td>0.42</td>\n",
       "      <td>84.43</td>\n",
       "    </tr>\n",
       "  </tbody>\n",
       "</table>\n",
       "</div>"
      ],
      "text/plain": [
       "  group  active  paid  users_count    total_sum  %users  %total_sum\n",
       "0     A     0.0   0.0        13155       0.0000   17.64        0.00\n",
       "1     A     1.0   0.0         1460       0.0000    1.96        0.00\n",
       "2     A     1.0   1.0           78   72820.0000    0.10       15.57\n",
       "3     B     0.0   0.0        53080       0.0000   71.18        0.00\n",
       "4     B     1.0   0.0         6489       0.0000    8.70        0.00\n",
       "5     B     1.0   1.0          314  394974.0035    0.42       84.43"
      ]
     },
     "execution_count": 51,
     "metadata": {},
     "output_type": "execute_result"
    }
   ],
   "source": [
    "# определим по группам % активных пользователей и % распределения оплат\n",
    "percent_total['%users'] = round(percent_total.users_count / general_file.id.count()*100, 2)\n",
    "percent_total['%total_sum'] = round(percent_total.total_sum / general_file.query('active == 1')['revenue'].sum()*100, 2)\n",
    "percent_total"
   ]
  },
  {
   "cell_type": "markdown",
   "metadata": {},
   "source": [
    "В эксперименте участвовало:\n",
    "- группа А (контрольная) - 2.06% от всех пользователей (1 538 польз-лей)\n",
    "- группа В (эксперементальная) - 9.12% от всех пользователей (6 803 польз-лей)\n",
    "\n",
    "Распределение оплат на группам:\n",
    "- группа А (контрольная) - 15.57% от общей суммы оплат (72 820 руб)\n",
    "- группа В (эксперементальная) - 84.43% от общей суммы оплат (394 974 руб)"
   ]
  },
  {
   "cell_type": "code",
   "execution_count": 52,
   "metadata": {},
   "outputs": [
    {
     "data": {
      "text/html": [
       "<div>\n",
       "<style scoped>\n",
       "    .dataframe tbody tr th:only-of-type {\n",
       "        vertical-align: middle;\n",
       "    }\n",
       "\n",
       "    .dataframe tbody tr th {\n",
       "        vertical-align: top;\n",
       "    }\n",
       "\n",
       "    .dataframe thead th {\n",
       "        text-align: right;\n",
       "    }\n",
       "</style>\n",
       "<table border=\"1\" class=\"dataframe\">\n",
       "  <thead>\n",
       "    <tr style=\"text-align: right;\">\n",
       "      <th></th>\n",
       "      <th>id</th>\n",
       "      <th>group</th>\n",
       "      <th>active</th>\n",
       "      <th>revenue</th>\n",
       "      <th>paid</th>\n",
       "    </tr>\n",
       "  </thead>\n",
       "  <tbody>\n",
       "    <tr>\n",
       "      <th>1</th>\n",
       "      <td>1627</td>\n",
       "      <td>A</td>\n",
       "      <td>1.0</td>\n",
       "      <td>990.0</td>\n",
       "      <td>1.0</td>\n",
       "    </tr>\n",
       "    <tr>\n",
       "      <th>10</th>\n",
       "      <td>2085</td>\n",
       "      <td>B</td>\n",
       "      <td>1.0</td>\n",
       "      <td>0.0</td>\n",
       "      <td>0.0</td>\n",
       "    </tr>\n",
       "    <tr>\n",
       "      <th>12</th>\n",
       "      <td>2215</td>\n",
       "      <td>B</td>\n",
       "      <td>1.0</td>\n",
       "      <td>0.0</td>\n",
       "      <td>0.0</td>\n",
       "    </tr>\n",
       "  </tbody>\n",
       "</table>\n",
       "</div>"
      ],
      "text/plain": [
       "      id group  active  revenue  paid\n",
       "1   1627     A     1.0    990.0   1.0\n",
       "10  2085     B     1.0      0.0   0.0\n",
       "12  2215     B     1.0      0.0   0.0"
      ]
     },
     "execution_count": 52,
     "metadata": {},
     "output_type": "execute_result"
    }
   ],
   "source": [
    "# нам нужны активные пользователи, которые зашли на сайт в дни проведения эксперимента\n",
    "general_file_active = general_file.query('active == 1')\n",
    "general_file_active.head(3)"
   ]
  },
  {
   "cell_type": "code",
   "execution_count": 53,
   "metadata": {},
   "outputs": [
    {
     "data": {
      "image/png": "[encoded data removed]",
      "text/plain": [
       "<Figure size 720x288 with 1 Axes>"
      ]
     },
     "metadata": {},
     "output_type": "display_data"
    }
   ],
   "source": [
    "# визуализируем распределение кол-ва пользователей по группам\n",
    "sns.set(font_scale=1.2, rc={'figure.figsize':(10, 4)})\n",
    "sns.countplot(x='group', data = general_file_active, palette='hot')\n",
    "plt.title('Распределение количества активных пользователей по группам', fontsize=14)\n",
    "plt.show()"
   ]
  },
  {
   "cell_type": "code",
   "execution_count": 54,
   "metadata": {},
   "outputs": [
    {
     "data": {
      "text/html": [
       "<div>\n",
       "<style scoped>\n",
       "    .dataframe tbody tr th:only-of-type {\n",
       "        vertical-align: middle;\n",
       "    }\n",
       "\n",
       "    .dataframe tbody tr th {\n",
       "        vertical-align: top;\n",
       "    }\n",
       "\n",
       "    .dataframe thead th {\n",
       "        text-align: right;\n",
       "    }\n",
       "</style>\n",
       "<table border=\"1\" class=\"dataframe\">\n",
       "  <thead>\n",
       "    <tr style=\"text-align: right;\">\n",
       "      <th></th>\n",
       "      <th>group</th>\n",
       "      <th>revenue</th>\n",
       "      <th>users_count</th>\n",
       "    </tr>\n",
       "  </thead>\n",
       "  <tbody>\n",
       "    <tr>\n",
       "      <th>0</th>\n",
       "      <td>A</td>\n",
       "      <td>0.0</td>\n",
       "      <td>1460</td>\n",
       "    </tr>\n",
       "    <tr>\n",
       "      <th>1</th>\n",
       "      <td>A</td>\n",
       "      <td>199.0</td>\n",
       "      <td>5</td>\n",
       "    </tr>\n",
       "    <tr>\n",
       "      <th>2</th>\n",
       "      <td>A</td>\n",
       "      <td>290.0</td>\n",
       "      <td>25</td>\n",
       "    </tr>\n",
       "    <tr>\n",
       "      <th>3</th>\n",
       "      <td>A</td>\n",
       "      <td>398.0</td>\n",
       "      <td>1</td>\n",
       "    </tr>\n",
       "    <tr>\n",
       "      <th>4</th>\n",
       "      <td>A</td>\n",
       "      <td>489.0</td>\n",
       "      <td>2</td>\n",
       "    </tr>\n",
       "  </tbody>\n",
       "</table>\n",
       "</div>"
      ],
      "text/plain": [
       "  group  revenue  users_count\n",
       "0     A      0.0         1460\n",
       "1     A    199.0            5\n",
       "2     A    290.0           25\n",
       "3     A    398.0            1\n",
       "4     A    489.0            2"
      ]
     },
     "execution_count": 54,
     "metadata": {},
     "output_type": "execute_result"
    }
   ],
   "source": [
    "# посчитаем кол-во пользователей по группам и по сумме оплаты\n",
    "users_count = general_file_active\\\n",
    "    .groupby(['group', 'revenue'], as_index=False)\\\n",
    "    .agg({'id': 'count'})\\\n",
    "    .rename(columns={'id': 'users_count'})\n",
    "users_count.head()"
   ]
  },
  {
   "cell_type": "code",
   "execution_count": 55,
   "metadata": {},
   "outputs": [
    {
     "data": {
      "text/html": [
       "<div>\n",
       "<style scoped>\n",
       "    .dataframe tbody tr th:only-of-type {\n",
       "        vertical-align: middle;\n",
       "    }\n",
       "\n",
       "    .dataframe tbody tr th {\n",
       "        vertical-align: top;\n",
       "    }\n",
       "\n",
       "    .dataframe thead th {\n",
       "        text-align: right;\n",
       "    }\n",
       "</style>\n",
       "<table border=\"1\" class=\"dataframe\">\n",
       "  <thead>\n",
       "    <tr style=\"text-align: right;\">\n",
       "      <th></th>\n",
       "      <th>group</th>\n",
       "      <th>users_count</th>\n",
       "      <th>%no_paid</th>\n",
       "    </tr>\n",
       "  </thead>\n",
       "  <tbody>\n",
       "    <tr>\n",
       "      <th>0</th>\n",
       "      <td>A</td>\n",
       "      <td>1460</td>\n",
       "      <td>18.37</td>\n",
       "    </tr>\n",
       "    <tr>\n",
       "      <th>24</th>\n",
       "      <td>B</td>\n",
       "      <td>6489</td>\n",
       "      <td>81.63</td>\n",
       "    </tr>\n",
       "  </tbody>\n",
       "</table>\n",
       "</div>"
      ],
      "text/plain": [
       "   group  users_count  %no_paid\n",
       "0      A         1460     18.37\n",
       "24     B         6489     81.63"
      ]
     },
     "execution_count": 55,
     "metadata": {},
     "output_type": "execute_result"
    }
   ],
   "source": [
    "# кол-во пользователей по группам, не совершившие оплату\n",
    "no_paid = users_count.query('revenue ==0')[['group', 'users_count']]\n",
    "no_paid['%no_paid'] = round(no_paid.users_count / no_paid.users_count.sum()*100, 2)\n",
    "no_paid"
   ]
  },
  {
   "cell_type": "code",
   "execution_count": 56,
   "metadata": {},
   "outputs": [
    {
     "data": {
      "image/png": "[encoded data removed]",
      "text/plain": [
       "<Figure size 720x288 with 1 Axes>"
      ]
     },
     "metadata": {},
     "output_type": "display_data"
    }
   ],
   "source": [
    "# визуализируем распределение кол-ва пользователей по группам, НЕ совершившие оплату\n",
    "sns.set(font_scale=1.2, rc={'figure.figsize':(10, 4)})\n",
    "sns.barplot(data=no_paid, x='users_count', y='%no_paid', hue='group', palette='hot')\n",
    "plt.title('Распределение активных пользователей, которые не произвели оплату', fontsize=14)\n",
    "plt.show()"
   ]
  },
  {
   "cell_type": "code",
   "execution_count": 57,
   "metadata": {},
   "outputs": [
    {
     "data": {
      "text/html": [
       "<div>\n",
       "<style scoped>\n",
       "    .dataframe tbody tr th:only-of-type {\n",
       "        vertical-align: middle;\n",
       "    }\n",
       "\n",
       "    .dataframe tbody tr th {\n",
       "        vertical-align: top;\n",
       "    }\n",
       "\n",
       "    .dataframe thead th {\n",
       "        text-align: right;\n",
       "    }\n",
       "</style>\n",
       "<table border=\"1\" class=\"dataframe\">\n",
       "  <thead>\n",
       "    <tr style=\"text-align: right;\">\n",
       "      <th></th>\n",
       "      <th>group</th>\n",
       "      <th>customers_count</th>\n",
       "      <th>%paid</th>\n",
       "    </tr>\n",
       "  </thead>\n",
       "  <tbody>\n",
       "    <tr>\n",
       "      <th>0</th>\n",
       "      <td>A</td>\n",
       "      <td>78</td>\n",
       "      <td>19.9</td>\n",
       "    </tr>\n",
       "    <tr>\n",
       "      <th>1</th>\n",
       "      <td>B</td>\n",
       "      <td>314</td>\n",
       "      <td>80.1</td>\n",
       "    </tr>\n",
       "  </tbody>\n",
       "</table>\n",
       "</div>"
      ],
      "text/plain": [
       "  group  customers_count  %paid\n",
       "0     A               78   19.9\n",
       "1     B              314   80.1"
      ]
     },
     "execution_count": 57,
     "metadata": {},
     "output_type": "execute_result"
    }
   ],
   "source": [
    "# кол-во клиентов по группам, совершившие оплату\n",
    "paid = general_file_active\\\n",
    "    .query('revenue != 0')\\\n",
    "    .groupby('group', as_index=False)\\\n",
    "    .agg({'id': 'count'})\\\n",
    "    .rename(columns={'id': 'customers_count'})\n",
    "paid['%paid'] = round(paid.customers_count / paid.customers_count.sum()*100, 2)\n",
    "paid"
   ]
  },
  {
   "cell_type": "code",
   "execution_count": 58,
   "metadata": {},
   "outputs": [
    {
     "data": {
      "image/png": "[encoded data removed]",
      "text/plain": [
       "<Figure size 720x288 with 1 Axes>"
      ]
     },
     "metadata": {},
     "output_type": "display_data"
    }
   ],
   "source": [
    "# визуализируем распределение кол-ва пользователей по группам, совершившие оплату\n",
    "sns.set(font_scale=1.2, rc={'figure.figsize':(10,4)})\n",
    "sns.barplot(data=paid, x='customers_count', y='%paid', hue='group', palette='hot')\n",
    "plt.title('Распределение клиентов, которые произвели оплату', fontsize=14)\n",
    "plt.show()"
   ]
  },
  {
   "cell_type": "code",
   "execution_count": 59,
   "metadata": {},
   "outputs": [
    {
     "data": {
      "text/html": [
       "<div>\n",
       "<style scoped>\n",
       "    .dataframe tbody tr th:only-of-type {\n",
       "        vertical-align: middle;\n",
       "    }\n",
       "\n",
       "    .dataframe tbody tr th {\n",
       "        vertical-align: top;\n",
       "    }\n",
       "\n",
       "    .dataframe thead th {\n",
       "        text-align: right;\n",
       "    }\n",
       "</style>\n",
       "<table border=\"1\" class=\"dataframe\">\n",
       "  <thead>\n",
       "    <tr style=\"text-align: right;\">\n",
       "      <th></th>\n",
       "      <th>id</th>\n",
       "      <th>group</th>\n",
       "      <th>active</th>\n",
       "      <th>check_sum</th>\n",
       "      <th>paid</th>\n",
       "    </tr>\n",
       "  </thead>\n",
       "  <tbody>\n",
       "    <tr>\n",
       "      <th>1</th>\n",
       "      <td>1627</td>\n",
       "      <td>A</td>\n",
       "      <td>1.0</td>\n",
       "      <td>990.0000</td>\n",
       "      <td>1.0</td>\n",
       "    </tr>\n",
       "    <tr>\n",
       "      <th>220</th>\n",
       "      <td>100300</td>\n",
       "      <td>B</td>\n",
       "      <td>1.0</td>\n",
       "      <td>990.0000</td>\n",
       "      <td>1.0</td>\n",
       "    </tr>\n",
       "    <tr>\n",
       "      <th>320</th>\n",
       "      <td>108270</td>\n",
       "      <td>B</td>\n",
       "      <td>1.0</td>\n",
       "      <td>290.0000</td>\n",
       "      <td>1.0</td>\n",
       "    </tr>\n",
       "    <tr>\n",
       "      <th>3779</th>\n",
       "      <td>264473</td>\n",
       "      <td>B</td>\n",
       "      <td>1.0</td>\n",
       "      <td>1900.0001</td>\n",
       "      <td>1.0</td>\n",
       "    </tr>\n",
       "    <tr>\n",
       "      <th>4187</th>\n",
       "      <td>274352</td>\n",
       "      <td>B</td>\n",
       "      <td>1.0</td>\n",
       "      <td>690.0000</td>\n",
       "      <td>1.0</td>\n",
       "    </tr>\n",
       "  </tbody>\n",
       "</table>\n",
       "</div>"
      ],
      "text/plain": [
       "          id group  active  check_sum  paid\n",
       "1       1627     A     1.0   990.0000   1.0\n",
       "220   100300     B     1.0   990.0000   1.0\n",
       "320   108270     B     1.0   290.0000   1.0\n",
       "3779  264473     B     1.0  1900.0001   1.0\n",
       "4187  274352     B     1.0   690.0000   1.0"
      ]
     },
     "execution_count": 59,
     "metadata": {},
     "output_type": "execute_result"
    }
   ],
   "source": [
    "# сформируем файл клиентов, которые произвели оплату\n",
    "customers = general_file_active.query('revenue > 0').rename(columns={'revenue': 'check_sum'})\n",
    "customers.head()"
   ]
  },
  {
   "cell_type": "code",
   "execution_count": 60,
   "metadata": {},
   "outputs": [
    {
     "data": {
      "image/png": "[encoded data removed]",
      "text/plain": [
       "<Figure size 1152x288 with 2 Axes>"
      ]
     },
     "metadata": {},
     "output_type": "display_data"
    }
   ],
   "source": [
    "# визуализируем количество клиентов по сумме чека по каждой группе \n",
    "group_A = customers.query('group == \"A\"')\n",
    "group_B = customers.query('group == \"B\"')\n",
    "sns.set(font_scale=1.2, rc={'figure.figsize':(16,4)}, palette='hsv')\n",
    "fig, axs = plt.subplots(1, 2)\n",
    "\n",
    "axs[0].hist(group_A['check_sum'], linewidth=1, edgecolor=\"white\")\n",
    "axs[0].set_title('группа А')\n",
    "axs[0].set(xlabel='сумма чека', ylabel='количество клиентов')\n",
    "axs[1].hist(group_B['check_sum'], linewidth=1, edgecolor=\"white\")\n",
    "axs[1].set_title('группа В')\n",
    "axs[1].set(xlabel='сумма чека', ylabel='количество клиентов')\n",
    "sns.histplot()\n",
    "plt.show()"
   ]
  },
  {
   "cell_type": "markdown",
   "metadata": {},
   "source": [
    "###  Выводы исследования объединения данных\n",
    "- группа А - контрольная \n",
    "- группа В - эксперементальная/целевая   \n",
    "#### 74 576 уникальных пользователей в общем файле\n",
    "- группа A - 14 693 пользователя (19.7%)\n",
    "- группа B - 59 883 пользователя (80.3%)\n",
    "#### 8 341 уникальный пользователь, участвующий в дни эксперемента\n",
    "- группа А - 1 538 пользователей  (18.4%)\n",
    "- группа В - 6 803 пользователей (81.6%)\n",
    "#### 7 949 пользователей не произвели оплату в дни эксперимента\n",
    "- группа А - 1 460 пользователей (18.37%)\n",
    "- группа В - 6 489 пользователей (81.63%)\n",
    "#### 392 клиента произвели оплату на сумму 467 794 руб\n",
    "- группа А - 78 клиентов (19.9%) на сумму 72 820 руб\n",
    "- группа В - 314 клиентов (80.1%) на сумму 394 974 руб\n",
    "\n",
    "\n",
    "1. По всем показателям мы наблюдаем общую картину, что кол-во пользователей в эксперементальной группе на каждом этапе анализа значительно больше (4-5раз) кол-ва пользователей контрольной группы. \n",
    "2. В процессе обработки данных выявилось 149 пользователей, которые производили оплаты в дни проведения эксперимента, но не были активны, т.е не принимали участие. Предположительно это был технический сбой, либо платежи, которые осуществляются ежедневно (например, подписка на мес/год). Для дальнейшего исследования было принято решение не включать этих пользователей.\n",
    "3. На визуализации по сумме чека и кол-ва клиентов мы видим, что в группе_А преобладают чеки не выше 1 000 руб, а в группе_В чеки ~2 000 руб занимают наибольшее количество. Можем предположить, что в дни эксперимента для целевой группы было сделано какое-то предложение, от которого сложно было отказаться :), например: акция, скидка на курс и тд., и новая механика повлияла на количество покупок."
   ]
  },
  {
   "cell_type": "markdown",
   "metadata": {},
   "source": [
    "### Определим метрики для анализа\n",
    "\n",
    "### CR\n",
    "**Conversion Rate** - процент пользователей платформы, которые совершили целевое действие, в нашем случае покупку \n",
    "- `CR = количество пользователей, совершивших целевое действие / количество активных пользователей платформы * 100`"
   ]
  },
  {
   "cell_type": "code",
   "execution_count": 61,
   "metadata": {},
   "outputs": [
    {
     "name": "stdout",
     "output_type": "stream",
     "text": [
      "CR группы_А = 5.07%\n",
      "CR группы_B = 4.62%\n",
      "CR группы_B меньше CR группы_A на 8.9%\n"
     ]
    }
   ],
   "source": [
    "CR_A = round(group_A.id.count() / general_file_active.query('group == \"A\"').id.count() * 100, 2)\n",
    "CR_B = round(group_B.id.count() / general_file_active.query('group == \"B\"').id.count() * 100, 2)\n",
    "print(f'CR группы_А = {CR_A}%')\n",
    "print(f'CR группы_B = {CR_B}%')\n",
    "print(f'CR группы_B меньше CR группы_A на {round((1-CR_B/CR_A)*100, 1)}%')"
   ]
  },
  {
   "cell_type": "markdown",
   "metadata": {},
   "source": [
    "### ARPPU\n",
    "**Average Revenue Per Paying User** - средний доход от платящего пользователя\n",
    "- `ARPPU = общий доход за период / количество платящих пользователей за период (клиентов)`"
   ]
  },
  {
   "cell_type": "code",
   "execution_count": 62,
   "metadata": {},
   "outputs": [
    {
     "name": "stdout",
     "output_type": "stream",
     "text": [
      "ARPPU группы_А = 933.59 руб\n",
      "ARPPU группы_B = 1257.88 руб\n",
      "ARPPU группы_B больше ARPPU группы_А на 34.7%\n"
     ]
    }
   ],
   "source": [
    "ARPPU_A = round(group_A.check_sum.sum() / group_A.id.count(), 2)\n",
    "ARPPU_B = round(group_B.check_sum.sum() / group_B.id.count(), 2)\n",
    "print(f'ARPPU группы_А = {ARPPU_A} руб')\n",
    "print(f'ARPPU группы_B = {ARPPU_B} руб')\n",
    "print(f'ARPPU группы_B больше ARPPU группы_А на {round((ARPPU_B/ARPPU_A - 1)*100,1)}%')"
   ]
  },
  {
   "cell_type": "markdown",
   "metadata": {},
   "source": [
    "### ARPU\n",
    "**Average Revenue Per User** - средний доход от одного привлеченного пользователя\n",
    "- `ARPU = Конверсия * ARPPU`"
   ]
  },
  {
   "cell_type": "code",
   "execution_count": 63,
   "metadata": {},
   "outputs": [
    {
     "name": "stdout",
     "output_type": "stream",
     "text": [
      "ARPU группы А = 47.33 руб\n",
      "ARPU группы B = 58.11 руб\n",
      "ARPU группы_B больше ARPU группы_А на 22.8%\n"
     ]
    }
   ],
   "source": [
    "ARPU_A = round(CR_A * ARPPU_A /100, 2)\n",
    "ARPU_B = round(CR_B * ARPPU_B/100, 2)\n",
    "print(f'ARPU группы А = {ARPU_A} руб')\n",
    "print(f'ARPU группы B = {ARPU_B} руб')\n",
    "print(f'ARPU группы_B больше ARPU группы_А на {round((ARPU_B/ARPU_A - 1)*100,1)}%')"
   ]
  },
  {
   "cell_type": "code",
   "execution_count": 64,
   "metadata": {},
   "outputs": [
    {
     "data": {
      "text/html": [
       "<div>\n",
       "<style scoped>\n",
       "    .dataframe tbody tr th:only-of-type {\n",
       "        vertical-align: middle;\n",
       "    }\n",
       "\n",
       "    .dataframe tbody tr th {\n",
       "        vertical-align: top;\n",
       "    }\n",
       "\n",
       "    .dataframe thead th {\n",
       "        text-align: right;\n",
       "    }\n",
       "</style>\n",
       "<table border=\"1\" class=\"dataframe\">\n",
       "  <thead>\n",
       "    <tr style=\"text-align: right;\">\n",
       "      <th></th>\n",
       "      <th>group</th>\n",
       "      <th>total_sum</th>\n",
       "      <th>count_users</th>\n",
       "      <th>count_customers</th>\n",
       "      <th>CR</th>\n",
       "      <th>ARPPU</th>\n",
       "      <th>ARPU</th>\n",
       "    </tr>\n",
       "  </thead>\n",
       "  <tbody>\n",
       "    <tr>\n",
       "      <th>0</th>\n",
       "      <td>A</td>\n",
       "      <td>72820.0000</td>\n",
       "      <td>1538</td>\n",
       "      <td>78</td>\n",
       "      <td>5.07</td>\n",
       "      <td>933.59</td>\n",
       "      <td>47.33</td>\n",
       "    </tr>\n",
       "    <tr>\n",
       "      <th>1</th>\n",
       "      <td>B</td>\n",
       "      <td>394974.0035</td>\n",
       "      <td>6803</td>\n",
       "      <td>314</td>\n",
       "      <td>4.62</td>\n",
       "      <td>1257.88</td>\n",
       "      <td>58.11</td>\n",
       "    </tr>\n",
       "  </tbody>\n",
       "</table>\n",
       "</div>"
      ],
      "text/plain": [
       "  group    total_sum  count_users  count_customers    CR    ARPPU   ARPU\n",
       "0     A   72820.0000         1538               78  5.07   933.59  47.33\n",
       "1     B  394974.0035         6803              314  4.62  1257.88  58.11"
      ]
     },
     "execution_count": 64,
     "metadata": {},
     "output_type": "execute_result"
    }
   ],
   "source": [
    "# общая таблица по показателям\n",
    "metrics = pd.DataFrame({\n",
    "             'group': ['A', 'B'], \n",
    "             'total_sum': [group_A.check_sum.sum(), group_B.check_sum.sum()],\n",
    "             'count_users': [general_file_active.query('group==\"A\"').id.count(),\n",
    "                            general_file_active.query('group==\"B\"').id.count()],\n",
    "             'count_customers': [paid.customers_count[0], paid.customers_count[1]],\n",
    "             'CR': [CR_A, CR_B],\n",
    "             'ARPPU': [ARPPU_A, ARPPU_B],\n",
    "             'ARPU': [ARPU_A, ARPU_B]\n",
    "             })\n",
    "metrics"
   ]
  },
  {
   "cell_type": "markdown",
   "metadata": {},
   "source": [
    "####  По метрикам видим, что \n",
    "- в целевой группе_В средний доход от клиента **ARPPU выше на 34.7%**, чем в группе_А, в нашем случае это средний чек, тк все пользователи в данных уникальны и сделали по 1 покупке/заказу\n",
    "- в целевой группе_В средний доход от привлеченного пользователя **ARPU выше на 22.6%**, чем в группе_А\n",
    "- **конверсия** целевой группы_В **меньше на 8.9%**, чем в группе_А"
   ]
  },
  {
   "cell_type": "markdown",
   "metadata": {},
   "source": [
    "`Проверим значения на нормальность распределения с помощью теста Колмогорова-Смирнова`\n",
    "- **Н0**: значения распределены нормально\n",
    "- **H1**: значения распределены ненормально"
   ]
  },
  {
   "cell_type": "code",
   "execution_count": 65,
   "metadata": {},
   "outputs": [
    {
     "data": {
      "text/plain": [
       "KstestResult(statistic=1.0, pvalue=0.0)"
      ]
     },
     "execution_count": 65,
     "metadata": {},
     "output_type": "execute_result"
    }
   ],
   "source": [
    "stats.kstest(group_A.check_sum, 'norm')"
   ]
  },
  {
   "cell_type": "code",
   "execution_count": 66,
   "metadata": {},
   "outputs": [
    {
     "data": {
      "text/plain": [
       "KstestResult(statistic=1.0, pvalue=0.0)"
      ]
     },
     "execution_count": 66,
     "metadata": {},
     "output_type": "execute_result"
    }
   ],
   "source": [
    "stats.kstest(group_B.check_sum, 'norm')"
   ]
  },
  {
   "cell_type": "markdown",
   "metadata": {},
   "source": [
    "В обеих группах pvalue < 0.05, соответственно отвергаем Нулевую гипотезу, в группе А и группе В значения распределены ненормально."
   ]
  },
  {
   "cell_type": "markdown",
   "metadata": {},
   "source": [
    "`Проверим группы на равенство дисперсий с помощью теста Левина`\n",
    "- **H0**: дисперсии внутри групп равны\n",
    "- **H1**: дисперсии внутри групп не равны"
   ]
  },
  {
   "cell_type": "code",
   "execution_count": 67,
   "metadata": {},
   "outputs": [
    {
     "name": "stdout",
     "output_type": "stream",
     "text": [
      "statistic = 3.075681699981606, pvalue = 0.08025675761347022\n",
      "Принимаем Нулевую гипотезу. Дисперсии равны.\n"
     ]
    }
   ],
   "source": [
    "statistic, pvalue = stats.levene(group_A.check_sum, group_B.check_sum)\n",
    "print(f'statistic = {statistic}, pvalue = {pvalue}')\n",
    "statistic, pvalue\n",
    "if pvalue < 0.05:\n",
    "    print('Отвергаем Нулевую гипотезу')\n",
    "else:\n",
    "    print('Принимаем Нулевую гипотезу. Дисперсии равны.')"
   ]
  },
  {
   "cell_type": "code",
   "execution_count": 68,
   "metadata": {},
   "outputs": [
    {
     "data": {
      "image/png": "[encoded data removed]",
      "text/plain": [
       "<Figure size 1440x432 with 2 Axes>"
      ]
     },
     "metadata": {},
     "output_type": "display_data"
    }
   ],
   "source": [
    "# визуализируем распределение оплат по группам\n",
    "sns.set(font_scale=1.2, \n",
    "        rc={'figure.figsize':(20, 6)})\n",
    "fig, ax = plt.subplots(1, 2)\n",
    "\n",
    "sns.boxplot(data=customers, x='check_sum', y='group', palette='hot', ax=ax[0])\n",
    "sns.histplot(data=customers, x='check_sum', hue='group', palette='hot', bins=15, kde=True, ax=ax[1])\n",
    "ax[0].set(xlabel='сумма чека', ylabel='группа')\n",
    "ax[1].set(xlabel='сумма чека', ylabel='количество клиентов')\n",
    "plt.show()"
   ]
  },
  {
   "cell_type": "markdown",
   "metadata": {},
   "source": [
    "При первоначальном анализе мы видим, что распределение в группах отклоняются от нормального, дисперсии групп равны, конверсия целевой группы уменьшилась, а ARPU и ARPPU увеличились относительно контрольной группы.\n",
    "\n",
    "На основе А/В тестирования нам необходимо проверить, что эти значения статистически значимы и дать руководству обоснования стоит ли запускать новую механику для всех пользователей или же откатить. "
   ]
  },
  {
   "cell_type": "code",
   "execution_count": 69,
   "metadata": {},
   "outputs": [
    {
     "data": {
      "text/html": [
       "<div>\n",
       "<style scoped>\n",
       "    .dataframe tbody tr th:only-of-type {\n",
       "        vertical-align: middle;\n",
       "    }\n",
       "\n",
       "    .dataframe tbody tr th {\n",
       "        vertical-align: top;\n",
       "    }\n",
       "\n",
       "    .dataframe thead th {\n",
       "        text-align: right;\n",
       "    }\n",
       "</style>\n",
       "<table border=\"1\" class=\"dataframe\">\n",
       "  <thead>\n",
       "    <tr style=\"text-align: right;\">\n",
       "      <th></th>\n",
       "      <th>group</th>\n",
       "      <th>total_sum</th>\n",
       "      <th>count_users</th>\n",
       "      <th>count_customers</th>\n",
       "      <th>CR</th>\n",
       "      <th>ARPPU</th>\n",
       "      <th>ARPU</th>\n",
       "    </tr>\n",
       "  </thead>\n",
       "  <tbody>\n",
       "    <tr>\n",
       "      <th>0</th>\n",
       "      <td>A</td>\n",
       "      <td>72820.0000</td>\n",
       "      <td>1538</td>\n",
       "      <td>78</td>\n",
       "      <td>5.07</td>\n",
       "      <td>933.59</td>\n",
       "      <td>47.33</td>\n",
       "    </tr>\n",
       "    <tr>\n",
       "      <th>1</th>\n",
       "      <td>B</td>\n",
       "      <td>394974.0035</td>\n",
       "      <td>6803</td>\n",
       "      <td>314</td>\n",
       "      <td>4.62</td>\n",
       "      <td>1257.88</td>\n",
       "      <td>58.11</td>\n",
       "    </tr>\n",
       "  </tbody>\n",
       "</table>\n",
       "</div>"
      ],
      "text/plain": [
       "  group    total_sum  count_users  count_customers    CR    ARPPU   ARPU\n",
       "0     A   72820.0000         1538               78  5.07   933.59  47.33\n",
       "1     B  394974.0035         6803              314  4.62  1257.88  58.11"
      ]
     },
     "execution_count": 69,
     "metadata": {},
     "output_type": "execute_result"
    }
   ],
   "source": [
    "metrics"
   ]
  },
  {
   "cell_type": "markdown",
   "metadata": {},
   "source": [
    "Для оценки различий между группами и проверки статистической значимости метрик `ARPU и ARPPU` воспользуемся методом `Bootstrap`. \n",
    "- Объем выборки слишком мал для применения классических статистических методов, данные не соответствуют нормальному распределению и имеют выбросы."
   ]
  },
  {
   "cell_type": "markdown",
   "metadata": {},
   "source": [
    "### ARPPU\n",
    "- **H0**: ARPPU не отличаются\n",
    "- **H1**: ARPPU отличаются"
   ]
  },
  {
   "cell_type": "code",
   "execution_count": 70,
   "metadata": {},
   "outputs": [
    {
     "name": "stdout",
     "output_type": "stream",
     "text": [
      "95% Доверительный интервал ARPPU: [-526.61711969  -96.88611985]\n"
     ]
    }
   ],
   "source": [
    "df_A_ARPPU = group_A.check_sum # значения группы_А\n",
    "df_B_ARPPU = group_B.check_sum # значения группы_В\n",
    "\n",
    "num_samples = 1000 # кол-во выборок bootstrap\n",
    "bootstrap_diffs = np.zeros(num_samples) # массив, заполненный нулями\n",
    " \n",
    "# Выполняем выборку\n",
    "for i in range(num_samples):\n",
    "    bootstrap_group1 = np.random.choice(df_A_ARPPU, size=len(df_A_ARPPU), replace=True)\n",
    "    bootstrap_group2 = np.random.choice(df_B_ARPPU, size=len(df_B_ARPPU), replace=True)\n",
    "     \n",
    "    bootstrap_diff = np.mean(bootstrap_group1) - np.mean(bootstrap_group2)\n",
    "    bootstrap_diffs[i] = bootstrap_diff\n",
    "\n",
    "# рассчитываем доверительный интервал  \n",
    "confidence_interval = np.percentile(bootstrap_diffs, [2.5, 97.5])\n",
    " \n",
    "print(\"95% Доверительный интервал ARPPU:\", confidence_interval)"
   ]
  },
  {
   "cell_type": "code",
   "execution_count": 71,
   "metadata": {},
   "outputs": [
    {
     "data": {
      "text/html": [
       "<div>\n",
       "<style scoped>\n",
       "    .dataframe tbody tr th:only-of-type {\n",
       "        vertical-align: middle;\n",
       "    }\n",
       "\n",
       "    .dataframe tbody tr th {\n",
       "        vertical-align: top;\n",
       "    }\n",
       "\n",
       "    .dataframe thead th {\n",
       "        text-align: right;\n",
       "    }\n",
       "</style>\n",
       "<table border=\"1\" class=\"dataframe\">\n",
       "  <thead>\n",
       "    <tr style=\"text-align: right;\">\n",
       "      <th></th>\n",
       "      <th>difference</th>\n",
       "    </tr>\n",
       "  </thead>\n",
       "  <tbody>\n",
       "    <tr>\n",
       "      <th>0</th>\n",
       "      <td>-170.001319</td>\n",
       "    </tr>\n",
       "    <tr>\n",
       "      <th>1</th>\n",
       "      <td>-351.227761</td>\n",
       "    </tr>\n",
       "  </tbody>\n",
       "</table>\n",
       "</div>"
      ],
      "text/plain": [
       "   difference\n",
       "0 -170.001319\n",
       "1 -351.227761"
      ]
     },
     "execution_count": 71,
     "metadata": {},
     "output_type": "execute_result"
    }
   ],
   "source": [
    "# создадим датафрейм полученных показателей для визуализации\n",
    "data_ARPPU = pd.DataFrame(bootstrap_diffs, columns=['difference'])\n",
    "data_ARPPU.head(2)"
   ]
  },
  {
   "cell_type": "code",
   "execution_count": 72,
   "metadata": {},
   "outputs": [
    {
     "data": {
      "image/png": "[encoded data removed]",
      "text/plain": [
       "<Figure size 1152x288 with 1 Axes>"
      ]
     },
     "metadata": {},
     "output_type": "display_data"
    }
   ],
   "source": [
    "# визуализация Бутстрап-распределения ARPPU\n",
    "sns.set(font_scale=1, \n",
    "        rc={'figure.figsize':(16, 4)}, palette='Wistia')\n",
    "plt.hist(data_ARPPU['difference'], bins=50)\n",
    "plt.vlines(confidence_interval, ymin=0, ymax=max(plt.hist(data_ARPPU['difference'], bins=50)[0]),\n",
    "           colors='red', linestyle='--')\n",
    "plt.xlabel('Разница средних значений')\n",
    "plt.ylabel('Частота')\n",
    "plt.title(\"Бутстрап-распределение разницы средних значений ARPPU\")\n",
    "plt.show()"
   ]
  },
  {
   "cell_type": "code",
   "execution_count": 73,
   "metadata": {},
   "outputs": [
    {
     "data": {
      "text/plain": [
       "BootstrapResult(confidence_interval=ConfidenceInterval(low=756.475158433983, high=1171.1382685379267), standard_error=103.64821929835333)"
      ]
     },
     "execution_count": 73,
     "metadata": {},
     "output_type": "execute_result"
    }
   ],
   "source": [
    "# посмотрим доверительный интервал средних для группы_А\n",
    "bootstrap((df_A_ARPPU.values, ), np.mean)"
   ]
  },
  {
   "cell_type": "code",
   "execution_count": 74,
   "metadata": {},
   "outputs": [
    {
     "data": {
      "text/plain": [
       "BootstrapResult(confidence_interval=ConfidenceInterval(low=1173.175618262024, high=1347.949212824476), standard_error=44.87958230431683)"
      ]
     },
     "execution_count": 74,
     "metadata": {},
     "output_type": "execute_result"
    }
   ],
   "source": [
    "# посмотрим доверительный интервал средних для группы_В\n",
    "bootstrap((df_B_ARPPU.values, ), np.mean)"
   ]
  },
  {
   "cell_type": "markdown",
   "metadata": {},
   "source": [
    "С помощью метода Bootstrap мы видим, что в распределение разницы средних значений между группами **0** не попадает в 95% доверительный интервал, соответственно можем отвергнуть нулевую гипотезу и принять альтернативную: ARPPU группы_В статистически значимо отличается от ARPPU группы_А. В доверительных интервалах отдельно по каждой группе нет пересечения средних значений.\n",
    "\n",
    "**Новая механика повлияла на увеличение среднего дохода с платящего пользователя (клиента).**"
   ]
  },
  {
   "cell_type": "markdown",
   "metadata": {},
   "source": [
    "### ARPU\n",
    "- **H0**: ARPU не отличаются\n",
    "- **H1**: ARPU отличаются"
   ]
  },
  {
   "cell_type": "code",
   "execution_count": 75,
   "metadata": {},
   "outputs": [
    {
     "name": "stdout",
     "output_type": "stream",
     "text": [
      "95% Доверительный интервал ARPU: [-25.69375409   7.16240536]\n"
     ]
    }
   ],
   "source": [
    "df_A_ARPU = general_file_active.query('group == \"A\"').revenue # значения группы_А\n",
    "df_B_ARPU = general_file_active.query('group == \"B\"').revenue # значения группы_В\n",
    "\n",
    "num_samples = 1000 # кол-во выборок bootstrap\n",
    "bootstrap_diffs_ARPU = np.zeros(num_samples)\n",
    "\n",
    "# Выполняем выборку\n",
    "for i in range(num_samples):\n",
    "    bootstrap_group_A = np.random.choice(df_A_ARPU, size=len(df_A_ARPU), replace=True)\n",
    "    bootstrap_group_B = np.random.choice(df_B_ARPU, size=len(df_B_ARPU), replace=True)\n",
    "     \n",
    "    bootstrap_diff = np.mean(bootstrap_group_A) - np.mean(bootstrap_group_B)\n",
    "    bootstrap_diffs_ARPU[i] = bootstrap_diff\n",
    "    \n",
    "# рассчитываем доверительный интервал    \n",
    "confidence_interval_ARPU = np.percentile(bootstrap_diffs_ARPU, [2.5, 97.5])\n",
    " \n",
    "print(\"95% Доверительный интервал ARPU:\", confidence_interval_ARPU)"
   ]
  },
  {
   "cell_type": "code",
   "execution_count": 76,
   "metadata": {},
   "outputs": [
    {
     "data": {
      "text/html": [
       "<div>\n",
       "<style scoped>\n",
       "    .dataframe tbody tr th:only-of-type {\n",
       "        vertical-align: middle;\n",
       "    }\n",
       "\n",
       "    .dataframe tbody tr th {\n",
       "        vertical-align: top;\n",
       "    }\n",
       "\n",
       "    .dataframe thead th {\n",
       "        text-align: right;\n",
       "    }\n",
       "</style>\n",
       "<table border=\"1\" class=\"dataframe\">\n",
       "  <thead>\n",
       "    <tr style=\"text-align: right;\">\n",
       "      <th></th>\n",
       "      <th>difference_ARPU</th>\n",
       "    </tr>\n",
       "  </thead>\n",
       "  <tbody>\n",
       "    <tr>\n",
       "      <th>0</th>\n",
       "      <td>-9.710155</td>\n",
       "    </tr>\n",
       "    <tr>\n",
       "      <th>1</th>\n",
       "      <td>-1.071349</td>\n",
       "    </tr>\n",
       "  </tbody>\n",
       "</table>\n",
       "</div>"
      ],
      "text/plain": [
       "   difference_ARPU\n",
       "0        -9.710155\n",
       "1        -1.071349"
      ]
     },
     "execution_count": 76,
     "metadata": {},
     "output_type": "execute_result"
    }
   ],
   "source": [
    "# создадим датафрейм полученных показателей для визуализации\n",
    "data_ARPU = pd.DataFrame(bootstrap_diffs_ARPU, columns={'difference_ARPU'})\n",
    "data_ARPU.head(2)"
   ]
  },
  {
   "cell_type": "code",
   "execution_count": 77,
   "metadata": {},
   "outputs": [
    {
     "data": {
      "image/png": "[encoded data removed]",
      "text/plain": [
       "<Figure size 1152x288 with 1 Axes>"
      ]
     },
     "metadata": {},
     "output_type": "display_data"
    }
   ],
   "source": [
    "# визуализация Бутстрап-распределения ARPU\n",
    "sns.set(font_scale=1, \n",
    "        rc={'figure.figsize':(16, 4)}, palette='Wistia')\n",
    "plt.hist(data_ARPU['difference_ARPU'], bins=50)\n",
    "plt.vlines(confidence_interval_ARPU, ymin=0, ymax=max(plt.hist(data_ARPU['difference_ARPU'], bins=50)[0]),\n",
    "           colors='red', linestyle='--')\n",
    "plt.xlabel('Разница средних значений')\n",
    "plt.ylabel('Частота')\n",
    "plt.title(\"Бутстрап-распределение разницы средних значений ARPU\")\n",
    "plt.show()"
   ]
  },
  {
   "cell_type": "code",
   "execution_count": 78,
   "metadata": {},
   "outputs": [
    {
     "data": {
      "text/plain": [
       "BootstrapResult(confidence_interval=ConfidenceInterval(low=34.5260078023407, high=64.68232332409877), standard_error=7.520934915348638)"
      ]
     },
     "execution_count": 78,
     "metadata": {},
     "output_type": "execute_result"
    }
   ],
   "source": [
    "# посмотрим доверительный интервал средних для группы_А\n",
    "bootstrap((df_A_ARPU.values, ), np.mean)"
   ]
  },
  {
   "cell_type": "code",
   "execution_count": 79,
   "metadata": {},
   "outputs": [
    {
     "data": {
      "text/plain": [
       "BootstrapResult(confidence_interval=ConfidenceInterval(low=51.02354354530693, high=66.10987213610821), standard_error=3.8150044316824157)"
      ]
     },
     "execution_count": 79,
     "metadata": {},
     "output_type": "execute_result"
    }
   ],
   "source": [
    "# посмотрим доверительный интервал средних для группы_В\n",
    "bootstrap((df_B_ARPU.values, ), np.mean)"
   ]
  },
  {
   "cell_type": "markdown",
   "metadata": {},
   "source": [
    "С помощью метода Bootstrap мы видим, что в распределение разницы средних значений между группами **0** попадает в 95% доверительный интервал, соответственно принимаем нулевую гипотезу: ARPU группы_В статистически значимо не отличается от ARPU группы_А. В доверительных интервалах отдельно по каждой группе наблюдаем пересечение средних значений.\n",
    "\n",
    "**Новая механика не повлияла на увеличение среднего дохода от одного пользователя.**"
   ]
  },
  {
   "cell_type": "code",
   "execution_count": 80,
   "metadata": {},
   "outputs": [
    {
     "data": {
      "text/html": [
       "<div>\n",
       "<style scoped>\n",
       "    .dataframe tbody tr th:only-of-type {\n",
       "        vertical-align: middle;\n",
       "    }\n",
       "\n",
       "    .dataframe tbody tr th {\n",
       "        vertical-align: top;\n",
       "    }\n",
       "\n",
       "    .dataframe thead th {\n",
       "        text-align: right;\n",
       "    }\n",
       "</style>\n",
       "<table border=\"1\" class=\"dataframe\">\n",
       "  <thead>\n",
       "    <tr style=\"text-align: right;\">\n",
       "      <th></th>\n",
       "      <th>group</th>\n",
       "      <th>total_sum</th>\n",
       "      <th>count_users</th>\n",
       "      <th>count_customers</th>\n",
       "      <th>CR</th>\n",
       "      <th>ARPPU</th>\n",
       "      <th>ARPU</th>\n",
       "    </tr>\n",
       "  </thead>\n",
       "  <tbody>\n",
       "    <tr>\n",
       "      <th>0</th>\n",
       "      <td>A</td>\n",
       "      <td>72820.0000</td>\n",
       "      <td>1538</td>\n",
       "      <td>78</td>\n",
       "      <td>5.07</td>\n",
       "      <td>933.59</td>\n",
       "      <td>47.33</td>\n",
       "    </tr>\n",
       "    <tr>\n",
       "      <th>1</th>\n",
       "      <td>B</td>\n",
       "      <td>394974.0035</td>\n",
       "      <td>6803</td>\n",
       "      <td>314</td>\n",
       "      <td>4.62</td>\n",
       "      <td>1257.88</td>\n",
       "      <td>58.11</td>\n",
       "    </tr>\n",
       "  </tbody>\n",
       "</table>\n",
       "</div>"
      ],
      "text/plain": [
       "  group    total_sum  count_users  count_customers    CR    ARPPU   ARPU\n",
       "0     A   72820.0000         1538               78  5.07   933.59  47.33\n",
       "1     B  394974.0035         6803              314  4.62  1257.88  58.11"
      ]
     },
     "execution_count": 80,
     "metadata": {},
     "output_type": "execute_result"
    }
   ],
   "source": [
    "metrics"
   ]
  },
  {
   "cell_type": "code",
   "execution_count": 81,
   "metadata": {},
   "outputs": [
    {
     "data": {
      "text/html": [
       "<div>\n",
       "<style scoped>\n",
       "    .dataframe tbody tr th:only-of-type {\n",
       "        vertical-align: middle;\n",
       "    }\n",
       "\n",
       "    .dataframe tbody tr th {\n",
       "        vertical-align: top;\n",
       "    }\n",
       "\n",
       "    .dataframe thead th {\n",
       "        text-align: right;\n",
       "    }\n",
       "</style>\n",
       "<table border=\"1\" class=\"dataframe\">\n",
       "  <thead>\n",
       "    <tr style=\"text-align: right;\">\n",
       "      <th></th>\n",
       "      <th>id</th>\n",
       "      <th>group</th>\n",
       "      <th>active</th>\n",
       "      <th>revenue</th>\n",
       "      <th>paid</th>\n",
       "    </tr>\n",
       "  </thead>\n",
       "  <tbody>\n",
       "    <tr>\n",
       "      <th>1</th>\n",
       "      <td>1627</td>\n",
       "      <td>A</td>\n",
       "      <td>1.0</td>\n",
       "      <td>990.0</td>\n",
       "      <td>1.0</td>\n",
       "    </tr>\n",
       "    <tr>\n",
       "      <th>10</th>\n",
       "      <td>2085</td>\n",
       "      <td>B</td>\n",
       "      <td>1.0</td>\n",
       "      <td>0.0</td>\n",
       "      <td>0.0</td>\n",
       "    </tr>\n",
       "  </tbody>\n",
       "</table>\n",
       "</div>"
      ],
      "text/plain": [
       "      id group  active  revenue  paid\n",
       "1   1627     A     1.0    990.0   1.0\n",
       "10  2085     B     1.0      0.0   0.0"
      ]
     },
     "execution_count": 81,
     "metadata": {},
     "output_type": "execute_result"
    }
   ],
   "source": [
    " general_file_active.head(2)"
   ]
  },
  {
   "cell_type": "markdown",
   "metadata": {},
   "source": [
    "`Метод Хи-квадрат Пирсона` - статистический тест, применяемый к наборам категориальных данных для оценки вероятности того, что какая-либо наблюдаемая разница между наборами возникла случайно.\n",
    "С помощью этого метода проверим нулевую гипотезу, что конверсия в группах не имеет различий. Для этого мы создадим таблицу сопряженности и в нашем случае категориальными данными будут `\"active\"` - пользователи, которые участвовали в дни эксперимента, и `\"paid\"` - пользователи, которые произвели покупку в дни эксперимента."
   ]
  },
  {
   "cell_type": "markdown",
   "metadata": {},
   "source": [
    "### CR\n",
    "- **H0:** CR не отличаются\n",
    "- **H1:** CR отличаются\n",
    "- уровень значимости 0.05"
   ]
  },
  {
   "cell_type": "code",
   "execution_count": 82,
   "metadata": {},
   "outputs": [
    {
     "data": {
      "text/html": [
       "<div>\n",
       "<style scoped>\n",
       "    .dataframe tbody tr th:only-of-type {\n",
       "        vertical-align: middle;\n",
       "    }\n",
       "\n",
       "    .dataframe tbody tr th {\n",
       "        vertical-align: top;\n",
       "    }\n",
       "\n",
       "    .dataframe thead th {\n",
       "        text-align: right;\n",
       "    }\n",
       "</style>\n",
       "<table border=\"1\" class=\"dataframe\">\n",
       "  <thead>\n",
       "    <tr style=\"text-align: right;\">\n",
       "      <th>paid</th>\n",
       "      <th>0.0</th>\n",
       "      <th>1.0</th>\n",
       "    </tr>\n",
       "    <tr>\n",
       "      <th>group</th>\n",
       "      <th></th>\n",
       "      <th></th>\n",
       "    </tr>\n",
       "  </thead>\n",
       "  <tbody>\n",
       "    <tr>\n",
       "      <th>A</th>\n",
       "      <td>1460</td>\n",
       "      <td>78</td>\n",
       "    </tr>\n",
       "    <tr>\n",
       "      <th>B</th>\n",
       "      <td>6489</td>\n",
       "      <td>314</td>\n",
       "    </tr>\n",
       "  </tbody>\n",
       "</table>\n",
       "</div>"
      ],
      "text/plain": [
       "paid    0.0  1.0\n",
       "group           \n",
       "A      1460   78\n",
       "B      6489  314"
      ]
     },
     "execution_count": 82,
     "metadata": {},
     "output_type": "execute_result"
    }
   ],
   "source": [
    "table = pd.crosstab(general_file_active['group'], general_file_active['paid'])\n",
    "table"
   ]
  },
  {
   "cell_type": "code",
   "execution_count": 83,
   "metadata": {},
   "outputs": [
    {
     "name": "stdout",
     "output_type": "stream",
     "text": [
      "χ²: 0.48480826522557896, p-значение: 0.48625240457231045\n"
     ]
    }
   ],
   "source": [
    "chi2, p_value, dof, expected = chi2_contingency(table)\n",
    "print(f\"χ²: {chi2}, p-значение: {p_value}\")"
   ]
  },
  {
   "cell_type": "markdown",
   "metadata": {},
   "source": [
    "С помощью метода Хи-квадрат Пирсона мы видим, что р-значение > 0.05, соответственно принимаем нулевую гипотезу: CR группы_В статистически значимо не отличается от CR группы_А. \n",
    "\n",
    "**Новая механика не повлияла на конверсию.**"
   ]
  },
  {
   "cell_type": "code",
   "execution_count": 84,
   "metadata": {},
   "outputs": [
    {
     "data": {
      "text/html": [
       "<div>\n",
       "<style scoped>\n",
       "    .dataframe tbody tr th:only-of-type {\n",
       "        vertical-align: middle;\n",
       "    }\n",
       "\n",
       "    .dataframe tbody tr th {\n",
       "        vertical-align: top;\n",
       "    }\n",
       "\n",
       "    .dataframe thead th {\n",
       "        text-align: right;\n",
       "    }\n",
       "</style>\n",
       "<table border=\"1\" class=\"dataframe\">\n",
       "  <thead>\n",
       "    <tr style=\"text-align: right;\">\n",
       "      <th></th>\n",
       "      <th>group</th>\n",
       "      <th>total_sum</th>\n",
       "      <th>count_users</th>\n",
       "      <th>count_customers</th>\n",
       "      <th>CR</th>\n",
       "      <th>ARPPU</th>\n",
       "      <th>ARPU</th>\n",
       "    </tr>\n",
       "  </thead>\n",
       "  <tbody>\n",
       "    <tr>\n",
       "      <th>0</th>\n",
       "      <td>A</td>\n",
       "      <td>72820.0000</td>\n",
       "      <td>1538</td>\n",
       "      <td>78</td>\n",
       "      <td>5.07</td>\n",
       "      <td>933.59</td>\n",
       "      <td>47.33</td>\n",
       "    </tr>\n",
       "    <tr>\n",
       "      <th>1</th>\n",
       "      <td>B</td>\n",
       "      <td>394974.0035</td>\n",
       "      <td>6803</td>\n",
       "      <td>314</td>\n",
       "      <td>4.62</td>\n",
       "      <td>1257.88</td>\n",
       "      <td>58.11</td>\n",
       "    </tr>\n",
       "  </tbody>\n",
       "</table>\n",
       "</div>"
      ],
      "text/plain": [
       "  group    total_sum  count_users  count_customers    CR    ARPPU   ARPU\n",
       "0     A   72820.0000         1538               78  5.07   933.59  47.33\n",
       "1     B  394974.0035         6803              314  4.62  1257.88  58.11"
      ]
     },
     "execution_count": 84,
     "metadata": {},
     "output_type": "execute_result"
    }
   ],
   "source": [
    "metrics"
   ]
  },
  {
   "cell_type": "markdown",
   "metadata": {},
   "source": [
    "### Вывод о проведении эксперимента \n",
    "\n",
    "Целевой группе_В была предложена новая механика оплаты услуг на сайте, у контрольной группы_А оставалась базовая механика. \n",
    "\n",
    "В ходе анализа данных и расчета основных метрик видим:\n",
    "- контрольная группа_А в 4-5 раз меньше по количеству пользователей целевой группы_В\n",
    "- значительное увеличение метрики ARPPU целевой группы_В на 34.7% (в нашем случае это средний чек, т.к все id в файле active_studs.csv уникальны и произвели покупку 1 раз) относительно контрольной группы_А\n",
    "- снижение конверсии на 8.9% у целевой группы_В\n",
    "- увеличение метрики ARPU целевой группы_В на 22.6%\n",
    "\n",
    "Мы применили методы A/B–тестирования, чтобы понять как разница количества пользователей в группах влияет на метрики и подтверждает наши расчеты. \n",
    "\n",
    "По итогам тестирования у нас подтвердилось:\n",
    "- ARPPU целевой группы_В имеют отличия от ARPPU контрольной группы_А\n",
    "- ARPU целевой группы_В не имеют отличия от ARPU контрольной группы_А\n",
    "- CR целевой группы_В не имеют отличия от CR контрольной группы_А\n",
    "\n",
    "Новую механику оплаты услуг на сайте нужно запускать, она влияет на рост среднего чека и не изменяет конверсию, т.е принесет бизнесу деньги, а клиентам - комфортабельные условия взаимодействия с платформой. "
   ]
  },
  {
   "cell_type": "markdown",
   "metadata": {},
   "source": [
    "## Задание 2. SQL\n",
    "### 2.1 Очень усердные ученики.\n",
    "\n",
    "### 2.1.1 Условие\n",
    "\n",
    "Образовательные курсы состоят из различных уроков, каждый из которых состоит из нескольких маленьких заданий. Каждое такое маленькое задание называется \"горошиной\".\n",
    "\n",
    "Назовём очень усердным учеником того пользователя, который хотя бы раз за текущий месяц правильно решил 20 горошин.\n",
    "\n",
    "### 2.1.2 Задача\n",
    "\n",
    "- таблица default.peas:\n",
    "\n",
    "Необходимо написать оптимальный запрос, который даст информацию о количестве очень усердных студентов.NB! \n",
    "Под **усердным студентом** мы понимаем студента, который правильно **решил 20 задач за текущий месяц.**"
   ]
  },
  {
   "cell_type": "code",
   "execution_count": 88,
   "metadata": {},
   "outputs": [],
   "source": [
    "connection = {'host': 'https://clickhouse.lab.karpov.courses',\n",
    "                      'database':'default',\n",
    "                      'user':'student', \n",
    "                      'password':'dpo_python_2020'\n",
    "                     }"
   ]
  },
  {
   "cell_type": "code",
   "execution_count": 89,
   "metadata": {},
   "outputs": [
    {
     "data": {
      "text/html": [
       "<div>\n",
       "<style scoped>\n",
       "    .dataframe tbody tr th:only-of-type {\n",
       "        vertical-align: middle;\n",
       "    }\n",
       "\n",
       "    .dataframe tbody tr th {\n",
       "        vertical-align: top;\n",
       "    }\n",
       "\n",
       "    .dataframe thead th {\n",
       "        text-align: right;\n",
       "    }\n",
       "</style>\n",
       "<table border=\"1\" class=\"dataframe\">\n",
       "  <thead>\n",
       "    <tr style=\"text-align: right;\">\n",
       "      <th></th>\n",
       "      <th>st_id</th>\n",
       "      <th>timest</th>\n",
       "      <th>correct</th>\n",
       "      <th>subject</th>\n",
       "    </tr>\n",
       "  </thead>\n",
       "  <tbody>\n",
       "    <tr>\n",
       "      <th>0</th>\n",
       "      <td>100379</td>\n",
       "      <td>2021-10-30 13:32:29</td>\n",
       "      <td>1</td>\n",
       "      <td>Theory of probability</td>\n",
       "    </tr>\n",
       "    <tr>\n",
       "      <th>1</th>\n",
       "      <td>100379</td>\n",
       "      <td>2021-10-30 14:11:19</td>\n",
       "      <td>0</td>\n",
       "      <td>Vizualization</td>\n",
       "    </tr>\n",
       "    <tr>\n",
       "      <th>2</th>\n",
       "      <td>100379</td>\n",
       "      <td>2021-10-30 15:54:22</td>\n",
       "      <td>1</td>\n",
       "      <td>Theory of probability</td>\n",
       "    </tr>\n",
       "  </tbody>\n",
       "</table>\n",
       "</div>"
      ],
      "text/plain": [
       "    st_id              timest  correct                subject\n",
       "0  100379 2021-10-30 13:32:29        1  Theory of probability\n",
       "1  100379 2021-10-30 14:11:19        0          Vizualization\n",
       "2  100379 2021-10-30 15:54:22        1  Theory of probability"
      ]
     },
     "execution_count": 89,
     "metadata": {},
     "output_type": "execute_result"
    }
   ],
   "source": [
    "# посмотрим на данные default.peas\n",
    "query = \"\"\"\n",
    "    SELECT\n",
    "        st_id,\n",
    "        toDateTime(timest) as timest,\n",
    "        correct,\n",
    "        subject\n",
    "    FROM peas \n",
    "\"\"\"\n",
    "peas = ph.read_clickhouse(query, connection=connection)\n",
    "peas.head(3)"
   ]
  },
  {
   "cell_type": "code",
   "execution_count": 90,
   "metadata": {},
   "outputs": [
    {
     "name": "stdout",
     "output_type": "stream",
     "text": [
      "Кол-во уникальных студентов - 308\n",
      "Виды дисциплин - ['Theory of probability' 'Vizualization' 'Python' 'Statistics' 'Math']\n",
      "Минимальная дата решения  - 2021-10-30 13:00:00\n",
      "Максимальная дата решения  - 2021-10-31 17:29:52\n",
      "Период решения - 1 days 04:29:52\n",
      "Кол-во решений - 6764\n"
     ]
    }
   ],
   "source": [
    "print(f'Кол-во уникальных студентов - {peas.st_id.nunique()}')\n",
    "print(f'Виды дисциплин - {peas.subject.unique()}')\n",
    "print(f'Минимальная дата решения  - {peas.timest.min()}')\n",
    "print(f'Максимальная дата решения  - {peas.timest.max()}')\n",
    "print(f'Период решения - {peas.timest.max()-peas.timest.min()}')\n",
    "print(f'Кол-во решений - {peas.correct.sum()}')"
   ]
  },
  {
   "cell_type": "code",
   "execution_count": 93,
   "metadata": {},
   "outputs": [
    {
     "name": "stdout",
     "output_type": "stream",
     "text": [
      "Кол-во усердных студентов, которые правильно решили 20 задач за текущий месяц, 136 человек.\n"
     ]
    }
   ],
   "source": [
    "query = \"\"\"\n",
    "    SELECT \n",
    "        COUNT(DISTINCT st_id) as count_student\n",
    "    FROM\n",
    "        (\n",
    "        SELECT  \n",
    "            st_id,\n",
    "            count(correct) as count_correct\n",
    "        FROM peas\n",
    "        WHERE correct = 1  \n",
    "        GROUP BY st_id \n",
    "        HAVING count_correct >=20\n",
    "        )\n",
    "\"\"\"\n",
    "count_student = ph.read_clickhouse(query, connection=connection)\n",
    "print(f'Кол-во усердных студентов, которые правильно решили 20 задач за текущий месяц, {count_student.count_student[0]} человек.')"
   ]
  },
  {
   "cell_type": "markdown",
   "metadata": {},
   "source": [
    "## 2.2 Оптимизация воронки\n",
    "\n",
    "### 2.2.1 Условие\n",
    "\n",
    "Образовательная платформа предлагает пройти студентам курсы по модели trial: студент может решить бесплатно лишь 30 горошин в день. Для неограниченного количества заданий в определенной дисциплине студенту необходимо приобрести полный доступ. Команда провела эксперимент, где был протестирован новый экран оплаты.\n",
    "\n",
    "### 2.2.2 Задача\n",
    "\n",
    "- таблицы: default.peas, default.studs и default.final_project_check\n",
    "\t\n",
    "Необходимо в одном запросе выгрузить следующую информацию о группах пользователей:\n",
    "\n",
    "- ARPU \n",
    "- ARPAU \n",
    "- CR в покупку \n",
    "- СR активного пользователя в покупку \n",
    "- CR пользователя из активности по математике (subject = ’math’) в покупку курса по математике\n",
    "\n",
    "ARPU считается относительно всех пользователей, попавших в группы.\n",
    "\n",
    "- **Активным** считается пользователь, за все время решивший **больше 10 задач** правильно в любых дисциплинах.\n",
    "\n",
    "- **Активным по математике** считается пользователь, за все время решивший **2 или больше задач** правильно по математике."
   ]
  },
  {
   "cell_type": "markdown",
   "metadata": {},
   "source": [
    "### Метрики \n",
    "\n",
    "**ARPU (Average Revenue Per User)** - средний платеж на всех зарегистрированных игроков.\n",
    "- `ARPU = доход / кол-во зарегистрированных (уникальных) пользователей`\n",
    "\n",
    "**ARPAU (Average Revenue Per Active User)** - средний платеж на всех активных пользователей. \n",
    "- `ARPAU = доход активных клиентов (больше 10 задач) / количество активных пользователей (больше 10 задач)`\n",
    "\n",
    "**CR (Convertion rate)** - процент пользователей, которые совершили целевое действие/покупку\n",
    "- `CR = количество пользователей, совершивших покупку / количество пользователей * 100`\n",
    "\n",
    "**СR_active** - процент активного пользователя в покупку\n",
    "- `CR_active = количество пользователей, совершивших покупку / количество активных пользователей (больше 10 задач) * 100`\n",
    "\n",
    "**CR_math** - процент активного пользователя по математике (subject = ’math’) в покупку курса по математике\n",
    "- `CR_math = количество пользователей, совершивших покупку по математике (больше 2-х задач) / количество активных пользователей по матеиматике (больше 2-х задач) * 100`"
   ]
  },
  {
   "cell_type": "code",
   "execution_count": 94,
   "metadata": {},
   "outputs": [
    {
     "name": "stdout",
     "output_type": "stream",
     "text": [
      "61\n"
     ]
    },
    {
     "data": {
      "text/html": [
       "<div>\n",
       "<style scoped>\n",
       "    .dataframe tbody tr th:only-of-type {\n",
       "        vertical-align: middle;\n",
       "    }\n",
       "\n",
       "    .dataframe tbody tr th {\n",
       "        vertical-align: top;\n",
       "    }\n",
       "\n",
       "    .dataframe thead th {\n",
       "        text-align: right;\n",
       "    }\n",
       "</style>\n",
       "<table border=\"1\" class=\"dataframe\">\n",
       "  <thead>\n",
       "    <tr style=\"text-align: right;\">\n",
       "      <th></th>\n",
       "      <th>st_id</th>\n",
       "      <th>sale_time</th>\n",
       "      <th>money</th>\n",
       "      <th>subject</th>\n",
       "    </tr>\n",
       "  </thead>\n",
       "  <tbody>\n",
       "    <tr>\n",
       "      <th>0</th>\n",
       "      <td>101432</td>\n",
       "      <td>2021-10-31 04:44:32</td>\n",
       "      <td>85000</td>\n",
       "      <td>Math</td>\n",
       "    </tr>\n",
       "    <tr>\n",
       "      <th>1</th>\n",
       "      <td>101432</td>\n",
       "      <td>2021-10-31 12:43:50</td>\n",
       "      <td>65000</td>\n",
       "      <td>Vizualization</td>\n",
       "    </tr>\n",
       "  </tbody>\n",
       "</table>\n",
       "</div>"
      ],
      "text/plain": [
       "    st_id           sale_time  money        subject\n",
       "0  101432 2021-10-31 04:44:32  85000           Math\n",
       "1  101432 2021-10-31 12:43:50  65000  Vizualization"
      ]
     },
     "execution_count": 94,
     "metadata": {},
     "output_type": "execute_result"
    }
   ],
   "source": [
    "# посмотрим на данные default.final_project_check\n",
    "query = \"\"\"\n",
    "    SELECT \n",
    "        st_id,\n",
    "        toDateTime(sale_time) as sale_time,\n",
    "        money,\n",
    "        subject\n",
    "    FROM default.final_project_check \n",
    "\"\"\"\n",
    "check = ph.read_clickhouse(query, connection=connection)\n",
    "print(check.shape[0])\n",
    "check.head(2)"
   ]
  },
  {
   "cell_type": "code",
   "execution_count": 95,
   "metadata": {},
   "outputs": [
    {
     "name": "stdout",
     "output_type": "stream",
     "text": [
      "600\n"
     ]
    },
    {
     "data": {
      "text/html": [
       "<div>\n",
       "<style scoped>\n",
       "    .dataframe tbody tr th:only-of-type {\n",
       "        vertical-align: middle;\n",
       "    }\n",
       "\n",
       "    .dataframe tbody tr th {\n",
       "        vertical-align: top;\n",
       "    }\n",
       "\n",
       "    .dataframe thead th {\n",
       "        text-align: right;\n",
       "    }\n",
       "</style>\n",
       "<table border=\"1\" class=\"dataframe\">\n",
       "  <thead>\n",
       "    <tr style=\"text-align: right;\">\n",
       "      <th></th>\n",
       "      <th>st_id</th>\n",
       "      <th>test_grp</th>\n",
       "    </tr>\n",
       "  </thead>\n",
       "  <tbody>\n",
       "    <tr>\n",
       "      <th>0</th>\n",
       "      <td>100379</td>\n",
       "      <td>pilot</td>\n",
       "    </tr>\n",
       "    <tr>\n",
       "      <th>1</th>\n",
       "      <td>101432</td>\n",
       "      <td>control</td>\n",
       "    </tr>\n",
       "  </tbody>\n",
       "</table>\n",
       "</div>"
      ],
      "text/plain": [
       "    st_id test_grp\n",
       "0  100379    pilot\n",
       "1  101432  control"
      ]
     },
     "execution_count": 95,
     "metadata": {},
     "output_type": "execute_result"
    }
   ],
   "source": [
    "# посмотрим на данные default.studs\n",
    "query = \"\"\"\n",
    "SELECT *\n",
    "FROM default.studs\n",
    "\"\"\"\n",
    "studs = ph.read_clickhouse(query, connection=connection)\n",
    "print(studs.shape[0])\n",
    "studs.head(2)"
   ]
  },
  {
   "cell_type": "code",
   "execution_count": 96,
   "metadata": {},
   "outputs": [
    {
     "name": "stdout",
     "output_type": "stream",
     "text": [
      "13245\n"
     ]
    },
    {
     "data": {
      "text/html": [
       "<div>\n",
       "<style scoped>\n",
       "    .dataframe tbody tr th:only-of-type {\n",
       "        vertical-align: middle;\n",
       "    }\n",
       "\n",
       "    .dataframe tbody tr th {\n",
       "        vertical-align: top;\n",
       "    }\n",
       "\n",
       "    .dataframe thead th {\n",
       "        text-align: right;\n",
       "    }\n",
       "</style>\n",
       "<table border=\"1\" class=\"dataframe\">\n",
       "  <thead>\n",
       "    <tr style=\"text-align: right;\">\n",
       "      <th></th>\n",
       "      <th>st_id</th>\n",
       "      <th>timest</th>\n",
       "      <th>correct</th>\n",
       "      <th>subject</th>\n",
       "    </tr>\n",
       "  </thead>\n",
       "  <tbody>\n",
       "    <tr>\n",
       "      <th>0</th>\n",
       "      <td>100379</td>\n",
       "      <td>2021-10-30 13:32:29</td>\n",
       "      <td>1</td>\n",
       "      <td>Theory of probability</td>\n",
       "    </tr>\n",
       "    <tr>\n",
       "      <th>1</th>\n",
       "      <td>100379</td>\n",
       "      <td>2021-10-30 14:11:19</td>\n",
       "      <td>0</td>\n",
       "      <td>Vizualization</td>\n",
       "    </tr>\n",
       "  </tbody>\n",
       "</table>\n",
       "</div>"
      ],
      "text/plain": [
       "    st_id              timest  correct                subject\n",
       "0  100379 2021-10-30 13:32:29        1  Theory of probability\n",
       "1  100379 2021-10-30 14:11:19        0          Vizualization"
      ]
     },
     "execution_count": 96,
     "metadata": {},
     "output_type": "execute_result"
    }
   ],
   "source": [
    "print(peas.shape[0])\n",
    "peas.head(2)"
   ]
  },
  {
   "cell_type": "code",
   "execution_count": 97,
   "metadata": {},
   "outputs": [
    {
     "data": {
      "text/html": [
       "<div>\n",
       "<style scoped>\n",
       "    .dataframe tbody tr th:only-of-type {\n",
       "        vertical-align: middle;\n",
       "    }\n",
       "\n",
       "    .dataframe tbody tr th {\n",
       "        vertical-align: top;\n",
       "    }\n",
       "\n",
       "    .dataframe thead th {\n",
       "        text-align: right;\n",
       "    }\n",
       "</style>\n",
       "<table border=\"1\" class=\"dataframe\">\n",
       "  <thead>\n",
       "    <tr style=\"text-align: right;\">\n",
       "      <th></th>\n",
       "      <th>test_grp</th>\n",
       "      <th>revenue</th>\n",
       "      <th>count_users</th>\n",
       "      <th>count_customers</th>\n",
       "      <th>count_active_customers</th>\n",
       "      <th>count_math_customers</th>\n",
       "      <th>ARPU</th>\n",
       "      <th>ARPAU</th>\n",
       "      <th>CR</th>\n",
       "      <th>CR_active</th>\n",
       "      <th>CR_math</th>\n",
       "    </tr>\n",
       "  </thead>\n",
       "  <tbody>\n",
       "    <tr>\n",
       "      <th>0</th>\n",
       "      <td>control</td>\n",
       "      <td>1385000</td>\n",
       "      <td>305</td>\n",
       "      <td>15</td>\n",
       "      <td>14</td>\n",
       "      <td>3</td>\n",
       "      <td>4540.98</td>\n",
       "      <td>10393.70</td>\n",
       "      <td>4.92</td>\n",
       "      <td>11.02</td>\n",
       "      <td>6.12</td>\n",
       "    </tr>\n",
       "    <tr>\n",
       "      <th>1</th>\n",
       "      <td>pilot</td>\n",
       "      <td>3395000</td>\n",
       "      <td>295</td>\n",
       "      <td>32</td>\n",
       "      <td>25</td>\n",
       "      <td>4</td>\n",
       "      <td>11508.47</td>\n",
       "      <td>29739.58</td>\n",
       "      <td>10.85</td>\n",
       "      <td>26.04</td>\n",
       "      <td>9.52</td>\n",
       "    </tr>\n",
       "  </tbody>\n",
       "</table>\n",
       "</div>"
      ],
      "text/plain": [
       "  test_grp  revenue  count_users  count_customers  count_active_customers  \\\n",
       "0  control  1385000          305               15                      14   \n",
       "1    pilot  3395000          295               32                      25   \n",
       "\n",
       "   count_math_customers      ARPU     ARPAU     CR  CR_active  CR_math  \n",
       "0                     3   4540.98  10393.70   4.92      11.02     6.12  \n",
       "1                     4  11508.47  29739.58  10.85      26.04     9.52  "
      ]
     },
     "execution_count": 97,
     "metadata": {},
     "output_type": "execute_result"
    }
   ],
   "source": [
    "query = \"\"\"\n",
    "SELECT \n",
    "    test_grp,\n",
    "    sum(money) AS revenue,\n",
    "    uniqExact(st_id) AS count_users,\n",
    "    countIf(DISTINCT st_id, money > 0) AS count_customers,\n",
    "    countIf(DISTINCT st_id, active_stud > 10 and money > 0) AS count_active_customers,\n",
    "    countIf(DISTINCT st_id, math_active_stud >= 2 and money > 0 and subject = 'Math') AS count_math_customers,\n",
    "    round(revenue / count_users, 2) AS ARPU,\n",
    "    round(sumIf(money, active_stud > 10) / countIf(DISTINCT st_id, active_stud > 10), 2) AS ARPAU,\n",
    "    round(count_customers / count_users * 100,2) AS CR, \n",
    "    round(count_active_customers / countIf(DISTINCT st_id, active_stud >10) * 100, 2) AS CR_active,\n",
    "    round(count_math_customers / countIf(DISTINCT st_id, math_active_stud >= 2)*100, 2) AS CR_math\n",
    "FROM\n",
    "    (\n",
    "        SELECT \n",
    "            l.test_grp AS test_grp,\n",
    "            l.st_id AS st_id,\n",
    "            r.sale_time AS sale_time,\n",
    "            r.money AS money,\n",
    "            r.subject AS subject,\n",
    "            s.active_stud AS active_stud,\n",
    "            s.math_active_stud AS math_active_stud\n",
    "        FROM studs AS l\n",
    "        LEFT JOIN final_project_check AS r    \n",
    "        ON l.st_id = r.st_id  \n",
    "        LEFT JOIN \n",
    "            (SELECT \n",
    "                st_id,\n",
    "                SUM(correct) AS active_stud,\n",
    "                SUM(CASE WHEN subject = 'Math' THEN correct ELSE 0 END) AS math_active_stud\n",
    "            FROM peas  \n",
    "            GROUP BY st_id\n",
    "            ) AS s\n",
    "        ON l.st_id = s.st_id \n",
    "    )\n",
    "GROUP BY test_grp\n",
    "\"\"\"\n",
    "metrics_SQL = ph.read_clickhouse(query, connection=connection)\n",
    "metrics_SQL"
   ]
  },
  {
   "cell_type": "markdown",
   "metadata": {},
   "source": [
    "## Задание 3. Python\n",
    "### 3.1 Задача\n",
    "\n",
    "Реализуйте функцию, которая будет автоматически подгружать информацию из дополнительного файла groups_add.csv (заголовки могут отличаться) и на основании дополнительных параметров пересчитывать метрики.\n",
    "Реализуйте функцию, которая будет строить графики по получаемым метрикам."
   ]
  },
  {
   "cell_type": "code",
   "execution_count": 98,
   "metadata": {},
   "outputs": [],
   "source": [
    "def function_to_add_groups(groups, groups_add, active_studs, checks):\n",
    "    ''' Функция для автоматической загрузки данных из дополнительного файла groups_add.csv,\n",
    "    которая получает данные через API, переименовывает заголовки, склеивает таблицы, рассчитывает \n",
    "    основные метрики для каждой группы и собирает их в общую таблицу для анализа эксперимента\n",
    "    '''\n",
    "    import pandas as pd\n",
    "    from urllib.parse import urlencode\n",
    "    import requests\n",
    "    \n",
    "    base_url = 'https://cloud-api.yandex.net/v1/disk/public/resources/download?'\n",
    "    public_key = 'https://disk.yandex.ru/d/5Kxrz02m3IBUwQ'\n",
    "    final_url = base_url + urlencode(dict(public_key=public_key))\n",
    "    response = requests.get(final_url)\n",
    "    download_url = response.json()['href']\n",
    "    download_response = requests.get(download_url)\n",
    "    groups_add = pd.read_csv(download_url)\n",
    "    \n",
    "    active_studs['active'] = 1\n",
    "    checks['paid'] = 1\n",
    "    active_studs = active_studs.rename(columns={'student_id': 'id'})\n",
    "    \n",
    "    shared_group = pd.concat([groups, groups_add]).rename(columns={'grp': 'group'})\n",
    "    active_checks = active_studs.merge(checks, on='id', how = 'left').rename(columns={'rev': 'revenue'})\n",
    "    general_file = shared_group.merge(active_checks, on='id', how= 'left').fillna(0)\n",
    "    \n",
    "    general_file_active = general_file.query('active == 1')\n",
    "    group_A = general_file_active.query('group == \"A\" and paid == 1')\n",
    "    group_B = general_file_active.query('group == \"B\" and paid == 1')\n",
    "    \n",
    "    CR_A = round(group_A.id.count() / general_file_active.query('group == \"A\"').id.count() * 100, 2)\n",
    "    CR_B = round(group_B.id.count() / general_file_active.query('group == \"B\"').id.count() * 100, 2)\n",
    "    ARPPU_A = round(group_A.revenue.sum() / group_A.id.count(), 2)\n",
    "    ARPPU_B = round(group_B.revenue.sum() / group_B.id.count(), 2)\n",
    "    ARPU_A = round(CR_A * ARPPU_A /100, 2)\n",
    "    ARPU_B = round(CR_B * ARPPU_B/100, 2)\n",
    "    \n",
    "    metrics = pd.DataFrame({\n",
    "             'group': ['A', 'B'], \n",
    "             'total_sum': [group_A.revenue.sum(), group_B.revenue.sum()],\n",
    "             'count_users': [general_file_active.query('group==\"A\"').id.count(),\n",
    "                            general_file_active.query('group==\"B\"').id.count()],\n",
    "             'count_customers': [group_A.id.count(), group_B.id.count()],\n",
    "             'CR': [CR_A, CR_B],\n",
    "             'ARPPU': [ARPPU_A, ARPPU_B],\n",
    "             'ARPU': [ARPU_A, ARPU_B]\n",
    "             })\n",
    "    return metrics"
   ]
  },
  {
   "cell_type": "code",
   "execution_count": 99,
   "metadata": {},
   "outputs": [
    {
     "data": {
      "text/html": [
       "<div>\n",
       "<style scoped>\n",
       "    .dataframe tbody tr th:only-of-type {\n",
       "        vertical-align: middle;\n",
       "    }\n",
       "\n",
       "    .dataframe tbody tr th {\n",
       "        vertical-align: top;\n",
       "    }\n",
       "\n",
       "    .dataframe thead th {\n",
       "        text-align: right;\n",
       "    }\n",
       "</style>\n",
       "<table border=\"1\" class=\"dataframe\">\n",
       "  <thead>\n",
       "    <tr style=\"text-align: right;\">\n",
       "      <th></th>\n",
       "      <th>group</th>\n",
       "      <th>total_sum</th>\n",
       "      <th>count_users</th>\n",
       "      <th>count_customers</th>\n",
       "      <th>CR</th>\n",
       "      <th>ARPPU</th>\n",
       "      <th>ARPU</th>\n",
       "    </tr>\n",
       "  </thead>\n",
       "  <tbody>\n",
       "    <tr>\n",
       "      <th>0</th>\n",
       "      <td>A</td>\n",
       "      <td>72820.0000</td>\n",
       "      <td>1538</td>\n",
       "      <td>78</td>\n",
       "      <td>5.07</td>\n",
       "      <td>933.59</td>\n",
       "      <td>47.33</td>\n",
       "    </tr>\n",
       "    <tr>\n",
       "      <th>1</th>\n",
       "      <td>B</td>\n",
       "      <td>394974.0035</td>\n",
       "      <td>6803</td>\n",
       "      <td>314</td>\n",
       "      <td>4.62</td>\n",
       "      <td>1257.88</td>\n",
       "      <td>58.11</td>\n",
       "    </tr>\n",
       "  </tbody>\n",
       "</table>\n",
       "</div>"
      ],
      "text/plain": [
       "  group    total_sum  count_users  count_customers    CR    ARPPU   ARPU\n",
       "0     A   72820.0000         1538               78  5.07   933.59  47.33\n",
       "1     B  394974.0035         6803              314  4.62  1257.88  58.11"
      ]
     },
     "execution_count": 99,
     "metadata": {},
     "output_type": "execute_result"
    }
   ],
   "source": [
    "metrics_function = function_to_add_groups(groups, groups_add, active_studs, checks)\n",
    "metrics_function"
   ]
  },
  {
   "cell_type": "code",
   "execution_count": 100,
   "metadata": {},
   "outputs": [],
   "source": [
    "def vizual_metrics(metrics_function):\n",
    "    ''' Функция для визуализации графиков по полученным метрикам\n",
    "    '''\n",
    "    sns.set(font_scale=1.3, \n",
    "            rc={'figure.figsize':(24, 5)})\n",
    "    f, (ax_1, ax_2, ax_3, ax_4, ax_5, ax_6) = plt.subplots(1, 6)\n",
    "    \n",
    "    sns.barplot(data=metrics_function, x= 'group', y = 'total_sum', palette= 'hot', ax=ax_1)\n",
    "    ax_1.set(xlabel = '', ylabel = '', title ='Total sum')\n",
    "    \n",
    "    sns.barplot(data=metrics_function, x= 'group', y = 'count_users', palette= 'hot', ax=ax_2)\n",
    "    ax_2.set(xlabel = '', ylabel = '', title = 'Count users')\n",
    "    \n",
    "    sns.barplot(data=metrics_function, x= 'group', y = 'count_customers', palette= 'hot', ax=ax_3)\n",
    "    ax_3.set(xlabel = '', ylabel = '', title = 'Count customers')\n",
    "    \n",
    "    sns.barplot(data=metrics_function, x= 'group', y = 'CR', palette= 'hot', ax=ax_4)\n",
    "    ax_4.set(xlabel = '', ylabel = '', title ='CR')\n",
    "    \n",
    "    sns.barplot(data=metrics_function, x= 'group', y = 'ARPPU', palette= 'hot', ax=ax_5)\n",
    "    ax_5.set(xlabel = '', ylabel = '', title ='ARPPU')\n",
    "    \n",
    "    sns.barplot(data=metrics_function, x= 'group', y = 'ARPU', palette= 'hot', ax=ax_6)\n",
    "    ax_6.set(xlabel = '', ylabel = '', title ='ARPU')\n",
    "    \n",
    "    plt.show() "
   ]
  },
  {
   "cell_type": "code",
   "execution_count": 101,
   "metadata": {},
   "outputs": [
    {
     "data": {
      "image/png": "[encoded data removed]",
      "text/plain": [
       "<Figure size 1728x360 with 6 Axes>"
      ]
     },
     "metadata": {},
     "output_type": "display_data"
    }
   ],
   "source": [
    "vizual_metrics(metrics_function)"
   ]
  },
  {
   "cell_type": "code",
   "execution_count": null,
   "metadata": {},
   "outputs": [],
   "source": [
    "\n"
   ]
  },
  {
   "cell_type": "code",
   "execution_count": null,
   "metadata": {},
   "outputs": [],
   "source": []
  },
  {
   "cell_type": "code",
   "execution_count": null,
   "metadata": {},
   "outputs": [],
   "source": []
  },
  {
   "cell_type": "code",
   "execution_count": null,
   "metadata": {},
   "outputs": [],
   "source": []
  }
 ],
 "metadata": {
  "kernelspec": {
   "display_name": "Python 3",
   "language": "python",
   "name": "python3"
  },
  "language_info": {
   "codemirror_mode": {
    "name": "ipython",
    "version": 3
   },
   "file_extension": ".py",
   "mimetype": "text/x-python",
   "name": "python",
   "nbconvert_exporter": "python",
   "pygments_lexer": "ipython3",
   "version": "3.7.3"
  }
 },
 "nbformat": 4,
 "nbformat_minor": 4
}
